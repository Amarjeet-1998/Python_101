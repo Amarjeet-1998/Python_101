{
  "nbformat": 4,
  "nbformat_minor": 0,
  "metadata": {
    "colab": {
      "provenance": [],
      "collapsed_sections": [],
      "authorship_tag": "ABX9TyOqDaJkac9D4KkJwLDBaza/",
      "include_colab_link": true
    },
    "kernelspec": {
      "name": "python3",
      "display_name": "Python 3"
    },
    "language_info": {
      "name": "python"
    }
  },
  "cells": [
    {
      "cell_type": "markdown",
      "metadata": {
        "id": "view-in-github",
        "colab_type": "text"
      },
      "source": [
        "<a href=\"https://colab.research.google.com/github/Amarjeet-1998/Python_101/blob/main/Untitled74.ipynb\" target=\"_parent\"><img src=\"https://colab.research.google.com/assets/colab-badge.svg\" alt=\"Open In Colab\"/></a>"
      ]
    },
    {
      "cell_type": "code",
      "execution_count": 6,
      "metadata": {
        "colab": {
          "base_uri": "https://localhost:8080/"
        },
        "id": "QzH0VHCFuhCT",
        "outputId": "7fc75a39-abb5-4590-d283-cee58048b85b"
      },
      "outputs": [
        {
          "output_type": "stream",
          "name": "stdout",
          "text": [
            "print enter the circle radius: 30\n",
            "You entered 30.0 the area of the circle is 2827.431\n"
          ]
        }
      ],
      "source": [
        "# ask the user for the radius of a circle and then print the area\n",
        "radius = float(input('print enter the circle radius: '))\n",
        "pi = 3.14159\n",
        "area = pi * radius ** 2\n",
        "print(f\"You entered {radius} the area of the circle is {area}\")\n"
      ]
    },
    {
      "cell_type": "code",
      "source": [
        "# convert fahrenheit to celcius\n",
        "far = float(input('Please enter the temperature in farenheit:'))\n",
        "cel = (far - 32) * 5/9\n",
        "print(far, 'farenheit in celcius is',cel)"
      ],
      "metadata": {
        "colab": {
          "base_uri": "https://localhost:8080/"
        },
        "id": "l8gBLmGsvYz_",
        "outputId": "a8550296-3cf5-46d4-ba2e-0b16d559db8b"
      },
      "execution_count": 7,
      "outputs": [
        {
          "output_type": "stream",
          "name": "stdout",
          "text": [
            "Please enter the temperature in farenheit:100\n",
            "100.0 farenheit in celcius is 37.77777777777778\n"
          ]
        }
      ]
    },
    {
      "cell_type": "code",
      "source": [
        "# obtain the sum of two integers\n",
        "num_1 = int(input('print enter the first number '))\n",
        "num_2 = int(input('please enter the second number '))\n",
        "print('The sum of' + str(num_1) + 'and' + str(num_2) + 'is' + str(num_1 + num_2))\n"
      ],
      "metadata": {
        "colab": {
          "base_uri": "https://localhost:8080/"
        },
        "id": "S9guBCVWzFKG",
        "outputId": "f9f3ae80-aa9d-4bc9-e99d-0ccea94270dc"
      },
      "execution_count": 8,
      "outputs": [
        {
          "output_type": "stream",
          "name": "stdout",
          "text": [
            "print enter the first number100\n",
            "please enter the second number200\n",
            "The sum of100and200is300\n"
          ]
        }
      ]
    },
    {
      "cell_type": "code",
      "source": [
        "num_1 = int(input('Please enter the first number: '))\n",
        "num_2 = int(input('Please enter the second number: '))\n",
        "product = num_1 * num_2\n",
        "print('The product of', num_1, 'and',num_2, 'is', product)\n"
      ],
      "metadata": {
        "colab": {
          "base_uri": "https://localhost:8080/"
        },
        "id": "A0TnjnIO1cXS",
        "outputId": "5e212ed7-f20e-4837-ba51-96ca573d3629"
      },
      "execution_count": 9,
      "outputs": [
        {
          "output_type": "stream",
          "name": "stdout",
          "text": [
            "Please enter the first number: 12\n",
            "Please enter the second number: 23\n",
            "The product of 12 and 23 is 276\n"
          ]
        }
      ]
    },
    {
      "cell_type": "code",
      "source": [
        "total_slices = 4 * 4\n",
        "number_of_pizzas = (total_slices + 5)//6\n",
        "slices_left = number_of_pizzas*6 - total_slices\n",
        "print('Number of pizzas required is',number_of_pizzas,'there will be',slices_left,\\\n",
        "'remaining slices.')"
      ],
      "metadata": {
        "colab": {
          "base_uri": "https://localhost:8080/"
        },
        "id": "PPbVTNDa4Kl_",
        "outputId": "90424ed1-2a8e-4389-d7cc-73e1e1e4bae0"
      },
      "execution_count": 10,
      "outputs": [
        {
          "output_type": "stream",
          "name": "stdout",
          "text": [
            "Number of pizzas required is 3 there will be 2 remaining slices.\n"
          ]
        }
      ]
    },
    {
      "cell_type": "code",
      "source": [
        "3 == 3"
      ],
      "metadata": {
        "colab": {
          "base_uri": "https://localhost:8080/"
        },
        "id": "Q3a0fOuz4lVP",
        "outputId": "dd45464b-f139-4712-df20-5cdac163e7a6"
      },
      "execution_count": 11,
      "outputs": [
        {
          "output_type": "execute_result",
          "data": {
            "text/plain": [
              "True"
            ]
          },
          "metadata": {},
          "execution_count": 11
        }
      ]
    },
    {
      "cell_type": "code",
      "source": [
        "x = 5\n",
        "y = 6\n",
        "#\n",
        "print('x =',x,'y =',y)\n",
        "print('Checking less than with \\'<\\':',x < y)\n",
        "print('Checking greater than with \\'>\\':',x > y)"
      ],
      "metadata": {
        "colab": {
          "base_uri": "https://localhost:8080/"
        },
        "id": "M4__ZriE5jiY",
        "outputId": "f62dff59-585f-494f-fefa-4819e3e15bc8"
      },
      "execution_count": 12,
      "outputs": [
        {
          "output_type": "stream",
          "name": "stdout",
          "text": [
            "x = 5 y = 6\n",
            "Checking less than with '<': True\n",
            "Checking greater than with '>': False\n"
          ]
        }
      ]
    },
    {
      "cell_type": "code",
      "source": [
        "var_1 = 7\n",
        "var_2 = 7\n",
        "\n",
        "print('var_1 =',var_1,'var_2 = ',var_2)\n",
        "print('Checking equality with \\'==\\':',var_1 == var_2)\n",
        "print('Checking not equal with \\'!=\\':',var_1 != var_2)\n",
        "print('Checking less than or equal with \\'<=\\':',var_1 <= var_2)\n",
        "print('Checking greater than or equal with \\'>=\\':',var_1 >= var_2)\n",
        "\n",
        "print('Demonstrate that \\'True\\' is Boolean in python with \\\n",
        "\\'type(True)\\':',type(True))"
      ],
      "metadata": {
        "colab": {
          "base_uri": "https://localhost:8080/"
        },
        "id": "JjPhKlJg5q0h",
        "outputId": "86e653da-d958-461f-aee4-72f9650c5df3"
      },
      "execution_count": 13,
      "outputs": [
        {
          "output_type": "stream",
          "name": "stdout",
          "text": [
            "var_1 = 7 var_2 =  7\n",
            "Checking equality with '==': True\n",
            "Checking not equal with '!=': False\n",
            "Checking less than or equal with '<=': True\n",
            "Checking greater than or equal with '>=': True\n",
            "Demonstrate that 'True' is Boolean in python with 'type(True)': <class 'bool'>\n"
          ]
        }
      ]
    },
    {
      "cell_type": "code",
      "source": [
        "\n",
        "var_3,var_4,var_5 = 15, 20, 25\n",
        "##\n",
        "print('var_3 =',var_3,'var_4 =',var_4,'var_5 =',var_5, end = '\\n\\n')\n",
        "###\n",
        "print('var_4 and var_5 < 100?',var_4 < 100 and var_5 < 100 )\n",
        "print('var_4 and var_5 < 22?',var_4 < 22 and var_5 < 22)\n",
        "print('var_4 or var_5 < 22?',var_4 < 22 or var_5 < 22, end = '\\n\\n')\n",
        "##\n",
        "print('not True is:',not True)\n",
        "print('not False is:',not False, end = '\\n\\n')\n",
        "##\n",
        "print('not(var_4 and var_5 < 100?)',not(var_4  < 100 and var_5 < 100))\n",
        "print('not(var_4 and var_5 < 22?)',not(var_4 < 22 and var_5 < 22))\n",
        "print('not(var_4 or var_5 < 22?)',not(var_4 < 22 or var_5 < 22))"
      ],
      "metadata": {
        "colab": {
          "base_uri": "https://localhost:8080/"
        },
        "id": "ghECYodB6Dct",
        "outputId": "a8ff773a-8aad-4349-da70-9b3bd522269a"
      },
      "execution_count": 14,
      "outputs": [
        {
          "output_type": "stream",
          "name": "stdout",
          "text": [
            "var_3 = 15 var_4 = 20 var_5 = 25\n",
            "\n",
            "var_4 and var_5 < 100? True\n",
            "var_4 and var_5 < 22? False\n",
            "var_4 or var_5 < 22? True\n",
            "\n",
            "not True is: False\n",
            "not False is: True\n",
            "\n",
            "not(var_4 and var_5 < 100?) False\n",
            "not(var_4 and var_5 < 22?) True\n",
            "not(var_4 or var_5 < 22?) False\n"
          ]
        }
      ]
    },
    {
      "cell_type": "code",
      "source": [
        "user_input = int(input('Please enter an integer between 1-5:> '))\n",
        "if user_input == 1:\n",
        "   print('one')\n",
        "elif user_input == 2:\n",
        "   print('two')\n",
        "elif user_input == 3:\n",
        "   print('three')\n",
        "elif user_input == 4:\n",
        "   print('four')\n",
        "elif user_input == 5:\n",
        "   print('five')\n",
        "else:\n",
        "   print('Out of range')"
      ],
      "metadata": {
        "colab": {
          "base_uri": "https://localhost:8080/"
        },
        "id": "XlepqPh36jnc",
        "outputId": "c3ca5e70-7b55-459e-80e8-f61de2fb931e"
      },
      "execution_count": 15,
      "outputs": [
        {
          "output_type": "stream",
          "name": "stdout",
          "text": [
            "Please enter an integer between 1-5:> 5\n",
            "five\n"
          ]
        }
      ]
    },
    {
      "cell_type": "code",
      "source": [
        "'''\n",
        "Question 2\n",
        "Repeat the previous task but this time the user will input a string and the\n",
        "code will ouput the integer value. Convert the string to lowercase first.\n",
        "'''\n",
        "user_input = input('Please enter an string between One and five:> ')\n",
        "user_input = user_input.lower()\n",
        "if user_input == 'one':\n",
        "   print(1)\n",
        "elif user_input == 'two':\n",
        "   print(2)\n",
        "elif user_input == 'three':\n",
        "   print(3)\n",
        "elif user_input == 'four':\n",
        "   print(4)\n",
        "elif user_input == 'five':\n",
        "   print(5)\n",
        "else:\n",
        "   print('Out of range')"
      ],
      "metadata": {
        "colab": {
          "base_uri": "https://localhost:8080/"
        },
        "id": "ANMy62616xbY",
        "outputId": "4d8effa0-080f-41e1-9a96-907cfd2e49b9"
      },
      "execution_count": 16,
      "outputs": [
        {
          "output_type": "stream",
          "name": "stdout",
          "text": [
            "Please enter an string between One and five:> 4\n",
            "Out of range\n"
          ]
        }
      ]
    },
    {
      "cell_type": "code",
      "source": [
        "'''\n",
        "Question 3\n",
        "Create a variable containing an integer between 1 and 10 inclusive. Ask the\n",
        "user to guess the number. If they guess too high or too low, tell them they\n",
        "have not won. Tell them they win if they guess the correct number.\n",
        "'''\n",
        "secret_number = 3\n",
        "guess = input('Guess the number between 1-10:> ')\n",
        "if guess.isdigit():\n",
        "   guess = int(guess)\n",
        "   if guess == secret_number:\n",
        "       print('You guessed the correct number! You win!')\n",
        "   elif guess > secret_number and guess <= 10:\n",
        "       print('You guessed too high. Sorry you lose!')\n",
        "   elif guess < secret_number and guess >= 1:\n",
        "       print('You guessed too low. Sorry you lose!')\n",
        "   else:\n",
        "       print('Out of range')\n",
        "else:\n",
        "   print('That\\'s not even an integer! What are you playing at?!')"
      ],
      "metadata": {
        "colab": {
          "base_uri": "https://localhost:8080/"
        },
        "id": "1QBzBrwl7c3S",
        "outputId": "ed6fdbff-3c8d-4c1e-ad01-52bde55b9f90"
      },
      "execution_count": 17,
      "outputs": [
        {
          "output_type": "stream",
          "name": "stdout",
          "text": [
            "Guess the number between 1-10:> 4\n",
            "You guessed too high. Sorry you lose!\n"
          ]
        }
      ]
    },
    {
      "cell_type": "code",
      "source": [
        "'''\n",
        "Question 4\n",
        "Ask the user to input their name. Check the length of the name. If it is\n",
        "greater than 5 characters long, write a message telling them how many characters\n",
        "otherwise write a message saying the length of their name is a secret\n",
        "'''\n",
        "name = input('Please enter your name:>')\n",
        "name_len = len(name)\n",
        "if name_len > 5:\n",
        "   print('Your name contains',name_len,'characters.')\n",
        "else:\n",
        "   print('I\\'m not telling you the length of your name.')"
      ],
      "metadata": {
        "colab": {
          "base_uri": "https://localhost:8080/"
        },
        "id": "Rgu9f1hJ7uaU",
        "outputId": "ead15f9a-fbc1-412c-bfe4-932957818594"
      },
      "execution_count": 18,
      "outputs": [
        {
          "output_type": "stream",
          "name": "stdout",
          "text": [
            "Please enter your name:>4\n",
            "I'm not telling you the length of your name.\n"
          ]
        }
      ]
    },
    {
      "cell_type": "code",
      "source": [
        "'''\n",
        "Question 5\n",
        "Ask the user for two integers between 1 and 20. If they are both greater than\n",
        "15 return their product. If only one is greater than 15 return their sum, if\n",
        "neither are greater than 15 return zero\n",
        "'''\n",
        "int_1 = int(input('Please enter an integer between 1-20:> '))\n",
        "int_2 = int(input('Please enter another integer between 1-20:> '))\n",
        "\n",
        "if int_1 > 15 and int_2 > 15:\n",
        "   print(int_1 * int_2)\n",
        "elif int_1 > 15 or int_2 > 15:\n",
        "   print(int_1 + int_2)\n",
        "else:\n",
        "   print(0)"
      ],
      "metadata": {
        "colab": {
          "base_uri": "https://localhost:8080/"
        },
        "id": "Pj78FPBv78GF",
        "outputId": "926f7372-a884-4f68-8b3f-ac4dcce1bc55"
      },
      "execution_count": 19,
      "outputs": [
        {
          "output_type": "stream",
          "name": "stdout",
          "text": [
            "Please enter an integer between 1-20:> 4\n",
            "Please enter another integer between 1-20:> 3\n",
            "0\n"
          ]
        }
      ]
    },
    {
      "cell_type": "code",
      "source": [
        "'''\n",
        "Question 6\n",
        "Ask the user for two integers, then swap the contents of the variables. So if\n",
        "var_1 = 1 and var_2 = 2 initially, once the code has run var_1 should equal 2\n",
        "and var_2 should equal 1.\n",
        "'''\n",
        "int_1 = int(input('Please enter first integer:> '))\n",
        "int_2 = int(input('Please enter second integer:> '))\n",
        "print('Before swapping int_1 =',int_1,'and int_2 =',int_2)\n",
        "int_1,int_2 = int_2,int_1\n",
        "print('After swapping int_1 =', int_1,'and int_2 = ',int_2)"
      ],
      "metadata": {
        "colab": {
          "base_uri": "https://localhost:8080/"
        },
        "id": "pFLP_bdJ8B9J",
        "outputId": "a8c10f01-e14d-407a-d0b2-dca350046b01"
      },
      "execution_count": 20,
      "outputs": [
        {
          "output_type": "stream",
          "name": "stdout",
          "text": [
            "Please enter first integer:> 32\n",
            "Please enter second integer:> 23\n",
            "Before swapping int_1 = 32 and int_2 = 23\n",
            "After swapping int_1 = 23 and int_2 =  32\n"
          ]
        }
      ]
    },
    {
      "cell_type": "code",
      "source": [
        "for i in range(10):\n",
        "  print(i)"
      ],
      "metadata": {
        "colab": {
          "base_uri": "https://localhost:8080/"
        },
        "id": "ByvZKV7Q8zOE",
        "outputId": "ead0aa75-1963-48e9-9dfc-aa386d1fc44d"
      },
      "execution_count": 21,
      "outputs": [
        {
          "output_type": "stream",
          "name": "stdout",
          "text": [
            "0\n",
            "1\n",
            "2\n",
            "3\n",
            "4\n",
            "5\n",
            "6\n",
            "7\n",
            "8\n",
            "9\n"
          ]
        }
      ]
    },
    {
      "cell_type": "code",
      "source": [
        "for i in range(10):\n",
        "  print(i, end=' ')"
      ],
      "metadata": {
        "colab": {
          "base_uri": "https://localhost:8080/"
        },
        "id": "F4jhvg_Z9dw7",
        "outputId": "9db6e6db-62ec-4d9e-befd-f1c3486201e5"
      },
      "execution_count": 22,
      "outputs": [
        {
          "output_type": "stream",
          "name": "stdout",
          "text": [
            "0 1 2 3 4 5 6 7 8 9 "
          ]
        }
      ]
    },
    {
      "cell_type": "code",
      "source": [
        "for i in range(1,10):\n",
        "  print(i, end=' ')"
      ],
      "metadata": {
        "colab": {
          "base_uri": "https://localhost:8080/"
        },
        "id": "QKg6mYv_97B1",
        "outputId": "cd15d746-8393-43f9-cf9c-9b36d1972339"
      },
      "execution_count": 23,
      "outputs": [
        {
          "output_type": "stream",
          "name": "stdout",
          "text": [
            "1 2 3 4 5 6 7 8 9 "
          ]
        }
      ]
    },
    {
      "cell_type": "code",
      "source": [
        "for i in range(0,101,4):\n",
        "  print(i,end=' ')"
      ],
      "metadata": {
        "colab": {
          "base_uri": "https://localhost:8080/"
        },
        "id": "bxZZEZXv-HtH",
        "outputId": "d61a93a1-1785-4e8d-a7fb-e7cb42ea7617"
      },
      "execution_count": 24,
      "outputs": [
        {
          "output_type": "stream",
          "name": "stdout",
          "text": [
            "0 4 8 12 16 20 24 28 32 36 40 44 48 52 56 60 64 68 72 76 80 84 88 92 96 100 "
          ]
        }
      ]
    },
    {
      "cell_type": "code",
      "source": [
        "word = 'python'"
      ],
      "metadata": {
        "id": "Tvxlo5KN-0yQ"
      },
      "execution_count": 26,
      "outputs": []
    },
    {
      "cell_type": "code",
      "source": [
        "for char in word:\n",
        "   print(char)"
      ],
      "metadata": {
        "colab": {
          "base_uri": "https://localhost:8080/"
        },
        "id": "xSlimpj8-QfW",
        "outputId": "0ee34015-c842-4f42-ddfa-9d80cc661a91"
      },
      "execution_count": 27,
      "outputs": [
        {
          "output_type": "stream",
          "name": "stdout",
          "text": [
            "p\n",
            "y\n",
            "t\n",
            "h\n",
            "o\n",
            "n\n"
          ]
        }
      ]
    },
    {
      "cell_type": "code",
      "source": [
        "\n",
        "data = [53,76,25,98,56,42,69,81]\n",
        "\n",
        "data_1 = []\n",
        "\n",
        "data[0]\n",
        "\n",
        "data[2]\n",
        "\n",
        "data[5]\n",
        "\n",
        "data[-1]\n",
        "\n",
        "data[0:5]"
      ],
      "metadata": {
        "colab": {
          "base_uri": "https://localhost:8080/"
        },
        "id": "6lfvw0iD-y57",
        "outputId": "15515faa-0305-43f3-f82e-7aad0700428a"
      },
      "execution_count": 28,
      "outputs": [
        {
          "output_type": "execute_result",
          "data": {
            "text/plain": [
              "[53, 76, 25, 98, 56]"
            ]
          },
          "metadata": {},
          "execution_count": 28
        }
      ]
    },
    {
      "cell_type": "code",
      "source": [
        "for num in data:\n",
        "   print(num,end=' ')\n",
        "   \n",
        "print()\n",
        "# Sum conents of list\n",
        "total = 0\n",
        "for num in data: \n",
        "   total = total + num\n",
        "print('The sum of \\'data\\' is:',total) "
      ],
      "metadata": {
        "colab": {
          "base_uri": "https://localhost:8080/"
        },
        "id": "W7QYQuST_1Lg",
        "outputId": "32181744-f050-4313-da23-c141c34c1bea"
      },
      "execution_count": 29,
      "outputs": [
        {
          "output_type": "stream",
          "name": "stdout",
          "text": [
            "53 76 25 98 56 42 69 81 \n",
            "The sum of 'data' is: 500\n"
          ]
        }
      ]
    },
    {
      "cell_type": "code",
      "source": [
        "find_max = 0\n",
        "for num in data:\n",
        "   if num > find_max:\n",
        "       find_max = num\n",
        "print('Max value is',find_max)  \n",
        "\n",
        "print('Max value using Python function \\'max()\\'',max(data))"
      ],
      "metadata": {
        "id": "q-BWO20DAYjJ"
      },
      "execution_count": null,
      "outputs": []
    },
    {
      "cell_type": "code",
      "source": [
        "my_list = [1,11,21,31,41,51]\n",
        "for i in range(5):\n",
        "   print(my_list[i])\n",
        "   print(my_list[i+1])\n",
        "   print()"
      ],
      "metadata": {
        "colab": {
          "base_uri": "https://localhost:8080/"
        },
        "id": "_SWYbv79BXbP",
        "outputId": "dc80c809-82d1-4068-9be0-82919e51122f"
      },
      "execution_count": 1,
      "outputs": [
        {
          "output_type": "stream",
          "name": "stdout",
          "text": [
            "1\n",
            "11\n",
            "\n",
            "11\n",
            "21\n",
            "\n",
            "21\n",
            "31\n",
            "\n",
            "31\n",
            "41\n",
            "\n",
            "41\n",
            "51\n",
            "\n"
          ]
        }
      ]
    },
    {
      "cell_type": "code",
      "source": [
        "# Bubble sort\n",
        "data = [53,76,25,98,56,42,69,81]\n",
        "data_copy = data[:]\n",
        "for i in range(len(data_copy)):\n",
        "   for j in range(0,len(data_copy)-i-1):\n",
        "       if data_copy[j] > data_copy[j+1]:\n",
        "           data_copy[j],data_copy[j+1] = data_copy[j+1],data_copy[j]"
      ],
      "metadata": {
        "id": "3AASX5yKBwMb"
      },
      "execution_count": 3,
      "outputs": []
    },
    {
      "cell_type": "code",
      "source": [],
      "metadata": {
        "colab": {
          "base_uri": "https://localhost:8080/",
          "height": 130
        },
        "id": "yFVFK-A-mXVO",
        "outputId": "d472e6bf-5ca0-4c92-fbce-a1586de86de1"
      },
      "execution_count": 5,
      "outputs": [
        {
          "output_type": "error",
          "ename": "SyntaxError",
          "evalue": "ignored",
          "traceback": [
            "\u001b[0;36m  File \u001b[0;32m\"<ipython-input-5-b5db4b2d6663>\"\u001b[0;36m, line \u001b[0;32m33\u001b[0m\n\u001b[0;31m    print(Counter)sherlock.lower()))\u001b[0m\n\u001b[0m                         ^\u001b[0m\n\u001b[0;31mSyntaxError\u001b[0m\u001b[0;31m:\u001b[0m invalid syntax\n"
          ]
        }
      ]
    },
    {
      "cell_type": "code",
      "source": [
        "#my_list_1 = [1,2,3,4]\n",
        "#my_list_2 = ['a','b','c','d']\n",
        "#\n",
        "#joined = list(zip(my_list_1,my_list_2))\n",
        "#print(f'The result of the zip function is {joined} it is of type {type(joined)}')\n",
        "#\n",
        "#i,j = zip(*joined)\n",
        "\n",
        "#print(capitals.items())\n",
        "#print()\n",
        "#x,y = zip(*capitals.items())\n",
        "\n",
        "\n",
        "#new_words = sherlock.split(' ')\n",
        "#\n",
        "#print(new_words)\n",
        "#\n",
        "#'Sherlock' in new_words\n",
        "\n",
        "#for i in range(len(new_words)):\n",
        "#    new_words[i] = new_words[i].strip('\\n')\n",
        "##    \n",
        "#print(new_words)\n",
        "\n",
        "### Tuples\n",
        "\n",
        "#my_tuple = (1,2,3,4)\n",
        "#my_list = [5,6,7,8]\n",
        "#my_string = 'Australia'\n",
        "#\n",
        "#my_tuple[0]\n",
        "#my_tuple[:3]\n",
        "#\n",
        "#my_list[0] = 1000\n",
        "#my_tuple[0] = 2000\n",
        "#my_string[4] = 'q'\n",
        "#\n",
        "### Summary\n",
        "#\n",
        "## Lists are mutable\n",
        "## Dictionaries are mutable\n",
        "## Tuples are immutable\n",
        "## Strings are immutable\n",
        "\n",
        "\n",
        "### Another Dimension\n",
        "\n",
        "#my_list = [[1,2,3],[4,5,6],[7,8,9]]\n",
        "\n",
        "#my_list[0]\n",
        "#my_list[1]\n",
        "#my_list[2]\n",
        "#\n",
        "#my_list[1][1]\n",
        "\n",
        "\n",
        "#countries = {'France':{'Capital':'Paris','Language':'French'},'Spain':{'Capital':'Madrid','Language':'Spanish'},\n",
        "#             'United Kingdom':{'Capital':'London','Language':'English'},\n",
        "#            'United States':{'Capital':'Washington DC','Language':'English'},\n",
        "#            'Italy':{'Capital':'Rome','Language':'Italian'}\n",
        "#            }\n",
        "##\n",
        "##\n",
        "##countries['France']\n",
        "##\n",
        "#for key, value in countries.items():\n",
        "#    print(key,value) \n",
        "#\n",
        "#print()\n",
        "#for key, value in countries.items():\n",
        "#    print(f'{value[\"Capital\"]} is the capital of {key}, they speak {value[\"Language\"]}.')\n",
        "\n",
        "\n",
        "from collections import Counter\n",
        "\n",
        "print(Counter(sherlock.lower()))\n",
        "\n",
        "new_dict = dict(Counter(sherlock.lower()))\n",
        "#\n",
        "new_dict = {k:v for k,v in new_dict.items() if k.isalpha()}\n",
        "#\n",
        "print(new_dict)\n",
        "\n",
        "L = [x**2 for x in range(1,11)]\n",
        "\n",
        "M = []\n",
        "for x in range(1,11):\n",
        "    M.append(x**2)"
      ],
      "metadata": {
        "id": "NDk5T9q1m0Gf"
      },
      "execution_count": null,
      "outputs": []
    },
    {
      "cell_type": "code",
      "source": [
        "'''\n",
        "Question 1\n",
        "Ask the user for two numbers between 1 and 100. Then count from the \n",
        "lower number to the higher number. Print the results to the screen.\n",
        "'''\n",
        "num_1 = int(input('Please enter a number between 1-100:> '))\n",
        "num_2 = int(input('Please enter a number between 1-100:> '))\n",
        "\n",
        "while num_1 < 0 or num_2 < 0 or num_1 > 100 or num_2 > 100 or num_1 == num_2:\n",
        "   print('Numbers must be different values between 1 and 100, try again')\n",
        "   num_1 = int(input('Please enter a number between 1-100:> '))\n",
        "   num_2 = int(input('Please enter a number between 1-100:> '))\n",
        "   \n",
        "if num_1 < num_2:\n",
        "   for i in range(num_1,num_2+1):\n",
        "       print(i,end=' ')\n",
        "else:\n",
        "   for i in range(num_2,num_1+1):\n",
        "       print(i,end=' ')"
      ],
      "metadata": {
        "colab": {
          "base_uri": "https://localhost:8080/"
        },
        "id": "c_4KFvEuop_v",
        "outputId": "0b779eec-0b59-4937-a683-f444f8479694"
      },
      "execution_count": 6,
      "outputs": [
        {
          "output_type": "stream",
          "name": "stdout",
          "text": [
            "Please enter a number between 1-100:> 1233\n",
            "Please enter a number between 1-100:> 2344\n",
            "Numbers must be different values between 1 and 100, try again\n",
            "Please enter a number between 1-100:> 24\n",
            "Please enter a number between 1-100:> 13\n",
            "13 14 15 16 17 18 19 20 21 22 23 24 "
          ]
        }
      ]
    },
    {
      "cell_type": "code",
      "source": [
        "'''\n",
        "Question 2\n",
        "Ask the user to input a string and then print it out to the screen in\n",
        "reverse order (use a for loop).\n",
        "'''\n",
        "word = input('please enter a word: > ')\n",
        "\n",
        "reverse_string = ''\n",
        "for char in word:\n",
        "  reverse_string = char + reverse_string\n",
        "\n",
        "print(word[::-1])\n"
      ],
      "metadata": {
        "colab": {
          "base_uri": "https://localhost:8080/"
        },
        "id": "4eF-qUoSov_Z",
        "outputId": "0f0e1c28-e5b4-49dd-cc64-b0a589faaae0"
      },
      "execution_count": 7,
      "outputs": [
        {
          "output_type": "stream",
          "name": "stdout",
          "text": [
            "please enter a word: > 12\n",
            "21\n"
          ]
        }
      ]
    },
    {
      "cell_type": "code",
      "source": [
        "'''\n",
        "Question 3\n",
        "Ask the user for a number between 1 and 12 and then display a times\n",
        "table for that number.\n",
        "'''\n",
        "user_input = input('Please enter a number between 1 and 12:> ')\n",
        "\n",
        "while (not user_input.isdigit()) or (int(user_input) < 1 or int(user_input) > 12):\n",
        "  print('Must be an integer between 1 and 12')\n",
        "  user_input = input('Please make selection:> ' )\n",
        "user_input = int(user_input)\n",
        "print('======================================')\n",
        "print()\n",
        "print(f'This is the {user_input} times table')\n",
        "print()\n",
        "for i in range(1,13):\n",
        "  print(f'{i} x {user_input} = {i * user_input}')"
      ],
      "metadata": {
        "colab": {
          "base_uri": "https://localhost:8080/"
        },
        "id": "_tNNfNppqWf0",
        "outputId": "6edfeaaa-dbe6-4999-fb37-b16b0355c264"
      },
      "execution_count": 8,
      "outputs": [
        {
          "output_type": "stream",
          "name": "stdout",
          "text": [
            "Please enter a number between 1 and 12:> 8\n",
            "======================================\n",
            "\n",
            "This is the 8 times table\n",
            "\n",
            "1 x 8 = 8\n",
            "2 x 8 = 16\n",
            "3 x 8 = 24\n",
            "4 x 8 = 32\n",
            "5 x 8 = 40\n",
            "6 x 8 = 48\n",
            "7 x 8 = 56\n",
            "8 x 8 = 64\n",
            "9 x 8 = 72\n",
            "10 x 8 = 80\n",
            "11 x 8 = 88\n",
            "12 x 8 = 96\n"
          ]
        }
      ]
    },
    {
      "cell_type": "code",
      "source": [
        "'''\n",
        "Question 4\n",
        "Can you amend the solution to question 3 so that it just prints out all\n",
        "times tables between 1 and 12? (no  need to ask user for input)\n",
        "'''\n",
        "#for i in range(1,13):\n",
        "#    print('===============================')\n",
        "#    print()\n",
        "#    print(f'This is the {i} times table')\n",
        "#    print()\n",
        "#    for j in range(1,13):\n",
        "#        print(f'{j} x {i} = {j*i}')\n"
      ],
      "metadata": {
        "colab": {
          "base_uri": "https://localhost:8080/",
          "height": 36
        },
        "id": "Zs37J33btmbU",
        "outputId": "04e0a84a-97f8-40b7-feb5-a687982b18e3"
      },
      "execution_count": 9,
      "outputs": [
        {
          "output_type": "execute_result",
          "data": {
            "text/plain": [
              "'\\nQuestion 4\\nCan you amend the solution to question 3 so that it just prints out all\\ntimes tables between 1 and 12? (no  need to ask user for input)\\n'"
            ],
            "application/vnd.google.colaboratory.intrinsic+json": {
              "type": "string"
            }
          },
          "metadata": {},
          "execution_count": 9
        }
      ]
    },
    {
      "cell_type": "code",
      "source": [
        "'''\n",
        "Question 5\n",
        "Ask the user to input a sequence of numbers. Then calculate the mean\n",
        "and print the result\n",
        "'''\n",
        "\n",
        "user_input = input('please enter a number type exit to stop:> ')\n",
        "numbers = []\n",
        "while user_input.lower() != 'exit':\n",
        "  while not user_input.isdigit():\n",
        "    print('That is not a number! Numbers only please:> ')\n",
        "    user_input = input('Try again:> ')\n",
        "  numbers.append(int(user_input))\n",
        "  user_input = input('Please enter next number:> ')\n",
        "\n",
        "total = 0\n",
        "for number in numbers:\n",
        "  total += number\n",
        "\n",
        "print(f'Mean is {total/len(numbers)}')\n",
        "print(sum(numbers)/len(numbers))"
      ],
      "metadata": {
        "colab": {
          "base_uri": "https://localhost:8080/",
          "height": 1000
        },
        "id": "bYcr8nTEt4zb",
        "outputId": "bd1f9b3e-e7c0-41a8-da27-61b9bc582c02"
      },
      "execution_count": 10,
      "outputs": [
        {
          "name": "stdout",
          "output_type": "stream",
          "text": [
            "please enter a number type exit to stop:> 12\n",
            "Please enter next number:> 23\n",
            "Please enter next number:> 34\n",
            "Please enter next number:> 12\n",
            "Please enter next number:> 12\n",
            "Please enter next number:> 43\n",
            "Please enter next number:> 23\n",
            "Please enter next number:> word\n",
            "That is not a number! Numbers only please:> \n",
            "Try again:> \n",
            "That is not a number! Numbers only please:> \n",
            "Try again:> ad\n",
            "That is not a number! Numbers only please:> \n",
            "Try again:> 13\n",
            "Please enter next number:> 334\n",
            "Please enter next number:> 13\n",
            "Please enter next number:> 13131\n",
            "Please enter next number:> 133232\n",
            "Please enter next number:> 22\n",
            "Please enter next number:> 131\n",
            "Please enter next number:> 32\n",
            "Please enter next number:> 232\n",
            "Please enter next number:> ss\n",
            "That is not a number! Numbers only please:> \n",
            "Try again:> FGG\n",
            "That is not a number! Numbers only please:> \n",
            "Try again:> exit\n",
            "That is not a number! Numbers only please:> \n",
            "Try again:> exit\n",
            "That is not a number! Numbers only please:> \n",
            "Try again:> stop\n",
            "That is not a number! Numbers only please:> \n",
            "Try again:> 'exit'\n",
            "That is not a number! Numbers only please:> \n",
            "Try again:> 2 exit\n",
            "That is not a number! Numbers only please:> \n",
            "Try again:> exit\n",
            "That is not a number! Numbers only please:> \n",
            "Try again:> skdjksjkdjkdj;d\n",
            "That is not a number! Numbers only please:> \n",
            "Try again:> s\n",
            "That is not a number! Numbers only please:> \n",
            "Try again:> 1\n",
            "Please enter next number:> 1\n",
            "Please enter next number:> 1\n",
            "Please enter next number:> 2\n",
            "Please enter next number:> 2\n",
            "Please enter next number:> 3\n"
          ]
        },
        {
          "output_type": "error",
          "ename": "KeyboardInterrupt",
          "evalue": "ignored",
          "traceback": [
            "\u001b[0;31m---------------------------------------------------------------------------\u001b[0m",
            "\u001b[0;31mKeyboardInterrupt\u001b[0m                         Traceback (most recent call last)",
            "\u001b[0;32m<ipython-input-10-59e1236fe0fc>\u001b[0m in \u001b[0;36m<module>\u001b[0;34m\u001b[0m\n\u001b[1;32m     12\u001b[0m     \u001b[0muser_input\u001b[0m \u001b[0;34m=\u001b[0m \u001b[0minput\u001b[0m\u001b[0;34m(\u001b[0m\u001b[0;34m'Try again:> '\u001b[0m\u001b[0;34m)\u001b[0m\u001b[0;34m\u001b[0m\u001b[0;34m\u001b[0m\u001b[0m\n\u001b[1;32m     13\u001b[0m   \u001b[0mnumbers\u001b[0m\u001b[0;34m.\u001b[0m\u001b[0mappend\u001b[0m\u001b[0;34m(\u001b[0m\u001b[0mint\u001b[0m\u001b[0;34m(\u001b[0m\u001b[0muser_input\u001b[0m\u001b[0;34m)\u001b[0m\u001b[0;34m)\u001b[0m\u001b[0;34m\u001b[0m\u001b[0;34m\u001b[0m\u001b[0m\n\u001b[0;32m---> 14\u001b[0;31m   \u001b[0muser_input\u001b[0m \u001b[0;34m=\u001b[0m \u001b[0minput\u001b[0m\u001b[0;34m(\u001b[0m\u001b[0;34m'Please enter next number:> '\u001b[0m\u001b[0;34m)\u001b[0m\u001b[0;34m\u001b[0m\u001b[0;34m\u001b[0m\u001b[0m\n\u001b[0m\u001b[1;32m     15\u001b[0m \u001b[0;34m\u001b[0m\u001b[0m\n\u001b[1;32m     16\u001b[0m \u001b[0mtotal\u001b[0m \u001b[0;34m=\u001b[0m \u001b[0;36m0\u001b[0m\u001b[0;34m\u001b[0m\u001b[0;34m\u001b[0m\u001b[0m\n",
            "\u001b[0;32m/usr/local/lib/python3.7/dist-packages/ipykernel/kernelbase.py\u001b[0m in \u001b[0;36mraw_input\u001b[0;34m(self, prompt)\u001b[0m\n\u001b[1;32m    861\u001b[0m             \u001b[0mself\u001b[0m\u001b[0;34m.\u001b[0m\u001b[0m_parent_ident\u001b[0m\u001b[0;34m,\u001b[0m\u001b[0;34m\u001b[0m\u001b[0;34m\u001b[0m\u001b[0m\n\u001b[1;32m    862\u001b[0m             \u001b[0mself\u001b[0m\u001b[0;34m.\u001b[0m\u001b[0m_parent_header\u001b[0m\u001b[0;34m,\u001b[0m\u001b[0;34m\u001b[0m\u001b[0;34m\u001b[0m\u001b[0m\n\u001b[0;32m--> 863\u001b[0;31m             \u001b[0mpassword\u001b[0m\u001b[0;34m=\u001b[0m\u001b[0;32mFalse\u001b[0m\u001b[0;34m,\u001b[0m\u001b[0;34m\u001b[0m\u001b[0;34m\u001b[0m\u001b[0m\n\u001b[0m\u001b[1;32m    864\u001b[0m         )\n\u001b[1;32m    865\u001b[0m \u001b[0;34m\u001b[0m\u001b[0m\n",
            "\u001b[0;32m/usr/local/lib/python3.7/dist-packages/ipykernel/kernelbase.py\u001b[0m in \u001b[0;36m_input_request\u001b[0;34m(self, prompt, ident, parent, password)\u001b[0m\n\u001b[1;32m    902\u001b[0m             \u001b[0;32mexcept\u001b[0m \u001b[0mKeyboardInterrupt\u001b[0m\u001b[0;34m:\u001b[0m\u001b[0;34m\u001b[0m\u001b[0;34m\u001b[0m\u001b[0m\n\u001b[1;32m    903\u001b[0m                 \u001b[0;31m# re-raise KeyboardInterrupt, to truncate traceback\u001b[0m\u001b[0;34m\u001b[0m\u001b[0;34m\u001b[0m\u001b[0;34m\u001b[0m\u001b[0m\n\u001b[0;32m--> 904\u001b[0;31m                 \u001b[0;32mraise\u001b[0m \u001b[0mKeyboardInterrupt\u001b[0m\u001b[0;34m(\u001b[0m\u001b[0;34m\"Interrupted by user\"\u001b[0m\u001b[0;34m)\u001b[0m \u001b[0;32mfrom\u001b[0m \u001b[0;32mNone\u001b[0m\u001b[0;34m\u001b[0m\u001b[0;34m\u001b[0m\u001b[0m\n\u001b[0m\u001b[1;32m    905\u001b[0m             \u001b[0;32mexcept\u001b[0m \u001b[0mException\u001b[0m \u001b[0;32mas\u001b[0m \u001b[0me\u001b[0m\u001b[0;34m:\u001b[0m\u001b[0;34m\u001b[0m\u001b[0;34m\u001b[0m\u001b[0m\n\u001b[1;32m    906\u001b[0m                 \u001b[0mself\u001b[0m\u001b[0;34m.\u001b[0m\u001b[0mlog\u001b[0m\u001b[0;34m.\u001b[0m\u001b[0mwarning\u001b[0m\u001b[0;34m(\u001b[0m\u001b[0;34m\"Invalid Message:\"\u001b[0m\u001b[0;34m,\u001b[0m \u001b[0mexc_info\u001b[0m\u001b[0;34m=\u001b[0m\u001b[0;32mTrue\u001b[0m\u001b[0;34m)\u001b[0m\u001b[0;34m\u001b[0m\u001b[0;34m\u001b[0m\u001b[0m\n",
            "\u001b[0;31mKeyboardInterrupt\u001b[0m: Interrupted by user"
          ]
        }
      ]
    },
    {
      "cell_type": "code",
      "source": [
        "'''\n",
        "Question 6\n",
        "Write code that will calculate 15 factorial. (factorial is product of \n",
        "positive ints up to a given number. e.g 5 factorial is 5x4x3x2x1)\n",
        "'''\n",
        "\n",
        "n = 15\n",
        "fact = 1\n",
        "for i in range(1,n+1):\n",
        "   fact = fact * i\n",
        "   \n",
        "print(fact)   \n",
        "#Can you modify the code to ask user for input first?\n"
      ],
      "metadata": {
        "colab": {
          "base_uri": "https://localhost:8080/"
        },
        "id": "XXIZl1aBvGgO",
        "outputId": "0e2fdd90-55d2-4f02-c998-0a477c2cede9"
      },
      "execution_count": 13,
      "outputs": [
        {
          "output_type": "stream",
          "name": "stdout",
          "text": [
            "1307674368000\n"
          ]
        }
      ]
    },
    {
      "cell_type": "code",
      "source": [
        "'''\n",
        "Question 7\n",
        "Write code to calculate Fibonacci numbers. Create list containing \n",
        "first 20 Fibonacci numbers, (Fib  numbers made by sum of preceeding\n",
        "two. Series starts 0 1 1 2 3 5 8 13 ....)\n",
        "'''\n",
        "\n",
        "## Number of fib numbers required\n",
        "n = 20\n",
        "\n",
        "# Set a and b to the first two numbers in the sequence\n",
        "a = 0\n",
        "b = 1 \n",
        "\n",
        "# List in which to store numbers\n",
        "fib_nums = []\n",
        "\n",
        "# Use a for loop to create the sequence, repeat n times\n",
        "for i in range(n):\n",
        "   fib_nums.append(a)\n",
        "   a,b = b,a+b     \n",
        "   \n",
        "print(f'The first {n} Fibonacci numbers are, {fib_nums}')\n"
      ],
      "metadata": {
        "colab": {
          "base_uri": "https://localhost:8080/"
        },
        "id": "BSFyqwoE0mKy",
        "outputId": "60e33dde-da36-4d2c-fdba-0fb6e633c720"
      },
      "execution_count": 14,
      "outputs": [
        {
          "output_type": "stream",
          "name": "stdout",
          "text": [
            "The first 20 Fibonacci numbers are, [0, 1, 1, 2, 3, 5, 8, 13, 21, 34, 55, 89, 144, 233, 377, 610, 987, 1597, 2584, 4181]\n"
          ]
        }
      ]
    },
    {
      "cell_type": "code",
      "source": [
        "'''\n",
        "Question 8\n",
        "The previous question was the first to contain comments. Go back \n",
        "through the other questions in this file and add comments to the \n",
        "solutions.\n",
        "'''\n",
        "\n",
        "'''\n",
        "Question 9\n",
        "\n",
        "     *****\n",
        "     *\n",
        "     **** \n",
        "     *\n",
        "     *\n",
        "     *\n",
        "Can you draw this using python? (comment the solution code)\n",
        "'''\n",
        "\n",
        "star = '*'\n",
        "\n",
        "for i in range(1,7):\n",
        "   for j in range(1,6):\n",
        "       if i == 1 and j < 6:\n",
        "           print(star,end='')\n",
        "       elif i == 2 and j == 1:\n",
        "           print()\n",
        "           print(star)\n",
        "       elif i == 3 and j < 5:\n",
        "           print(star,end='')\n",
        "       elif i == 4 and j == 1:\n",
        "           print()\n",
        "           print(star)  \n",
        "       elif i == 5 and j == 1:\n",
        "           print(star)\n",
        "       elif i == 6 and j == 1:\n",
        "           print(star)    \n"
      ],
      "metadata": {
        "colab": {
          "base_uri": "https://localhost:8080/"
        },
        "id": "Q23cmEOx0yw7",
        "outputId": "70246486-fe5b-4d4b-8ea5-7d76c94657c9"
      },
      "execution_count": 15,
      "outputs": [
        {
          "output_type": "stream",
          "name": "stdout",
          "text": [
            "*****\n",
            "*\n",
            "****\n",
            "*\n",
            "*\n",
            "*\n"
          ]
        }
      ]
    },
    {
      "cell_type": "code",
      "source": [
        "'''\n",
        "Question 10\n",
        "Write some code that will determine all odd and even numbers\n",
        "between 1 and 100. Put the odds in a list named odd and the evens\n",
        "in a list named even.\n",
        "'''\n",
        "\n",
        "# Number required\n",
        "n = 100\n",
        "\n",
        "# instantiate empty lists\n",
        "evens = []\n",
        "odds = []\n",
        "\n",
        "for i in range(n+1):\n",
        "  if not i % 2:\n",
        "    evens.append(i)\n",
        "  else:\n",
        "    odds.append(i)\n",
        "\n",
        "print(f'The evens are {evens}')\n",
        "print(f'The odds are {odds}')"
      ],
      "metadata": {
        "colab": {
          "base_uri": "https://localhost:8080/"
        },
        "id": "ivqMIWyY1Bfi",
        "outputId": "36f3c28d-bafc-4349-c806-8d29a1d11da7"
      },
      "execution_count": 16,
      "outputs": [
        {
          "output_type": "stream",
          "name": "stdout",
          "text": [
            "The evens are [0, 2, 4, 6, 8, 10, 12, 14, 16, 18, 20, 22, 24, 26, 28, 30, 32, 34, 36, 38, 40, 42, 44, 46, 48, 50, 52, 54, 56, 58, 60, 62, 64, 66, 68, 70, 72, 74, 76, 78, 80, 82, 84, 86, 88, 90, 92, 94, 96, 98, 100]\n",
            "The odds are [1, 3, 5, 7, 9, 11, 13, 15, 17, 19, 21, 23, 25, 27, 29, 31, 33, 35, 37, 39, 41, 43, 45, 47, 49, 51, 53, 55, 57, 59, 61, 63, 65, 67, 69, 71, 73, 75, 77, 79, 81, 83, 85, 87, 89, 91, 93, 95, 97, 99]\n"
          ]
        }
      ]
    },
    {
      "cell_type": "code",
      "source": [
        "import math\n",
        "print(math.pi)"
      ],
      "metadata": {
        "colab": {
          "base_uri": "https://localhost:8080/"
        },
        "id": "TaE4cbo52lFK",
        "outputId": "324401d6-6640-4e7e-d1a8-1bac101a81f4"
      },
      "execution_count": 1,
      "outputs": [
        {
          "output_type": "stream",
          "name": "stdout",
          "text": [
            "3.141592653589793\n"
          ]
        }
      ]
    },
    {
      "cell_type": "code",
      "source": [
        "print(math.cos(0))"
      ],
      "metadata": {
        "colab": {
          "base_uri": "https://localhost:8080/"
        },
        "id": "glp_88BBN8nh",
        "outputId": "3e4f6eb8-9856-4cdb-f87e-78f73070170a"
      },
      "execution_count": 2,
      "outputs": [
        {
          "output_type": "stream",
          "name": "stdout",
          "text": [
            "1.0\n"
          ]
        }
      ]
    },
    {
      "cell_type": "code",
      "source": [
        "import random\n"
      ],
      "metadata": {
        "id": "BKHPqEfPOFTo"
      },
      "execution_count": 4,
      "outputs": []
    },
    {
      "cell_type": "code",
      "source": [
        "## Dictionaries\n",
        "\n",
        "capitals = {'France':'Paris','Spain':'Madrid','United Kingdom':'London',\n",
        "            'India':'New Delhi','United States':'Washington DC','Italy':'Rome',\n",
        "            'Denmark':'Copenhagen','Germany':'Berlin','Greece':'Athens',\n",
        "            'Bulgaria':'Sofia','Ireland':'Dublin','Mexico':'Mexico City'\n",
        "            }\n",
        "\n",
        "#capitals['Germany']\n",
        "#capitals.get('Germany')\n",
        "#\n",
        "#capitals['South Korea'] = 'Seoul'\n",
        "#\n",
        "#print(capitals)\n",
        "#\n",
        "#capitals.items()\n",
        "#print()\n",
        "#\n",
        "#print(capitals.items())\n",
        "#\n",
        "for country in capitals:\n",
        "  print(country)\n",
        "###    \n",
        "#for country, city in capitals.items():\n",
        "#    print(f'The capital of {country}, is {city}')    \n",
        "#    \n",
        "#print() "
      ],
      "metadata": {
        "colab": {
          "base_uri": "https://localhost:8080/"
        },
        "id": "OmmmuziLOaOD",
        "outputId": "47c34f49-5930-4936-c843-b850e0320f55"
      },
      "execution_count": 10,
      "outputs": [
        {
          "output_type": "stream",
          "name": "stdout",
          "text": [
            "France\n",
            "Spain\n",
            "United Kingdom\n",
            "India\n",
            "United States\n",
            "Italy\n",
            "Denmark\n",
            "Germany\n",
            "Greece\n",
            "Bulgaria\n",
            "Ireland\n",
            "Mexico\n"
          ]
        }
      ]
    },
    {
      "cell_type": "code",
      "source": [
        "#print(capitals.keys())\n",
        "##\n",
        "#print()\n",
        "#print(capitals.values())\n",
        "#\n",
        "#\n",
        "#if 'France' in capitals:\n",
        "#    print('It contains France')\n",
        "#        \n",
        "#L = [1,2,3,4,5]\n",
        "#\n",
        "#print(7 in L)\n",
        "\n",
        "sherlock = '''\n",
        "Mr. Sherlock Holmes, who was usually very late in the mornings, save upon those not infrequent occasions when he was up all night, was seated at the breakfast table. I stood upon the hearth-rug and picked up the stick which our visitor had left behind him the night before. It was a fine, thick piece of wood, bulbous-headed, of the sort which is known as a “Penang lawyer.” Just under the head was a broad silver band nearly an inch across. “To James Mortimer, M.R.C.S., from his friends of the C.C.H.,” was engraved upon it, with the date “1884.” It was just such a stick as the old-fashioned family practitioner used to carry—dignified, solid, and reassuring.\n",
        "\n",
        "“Well, Watson, what do you make of it?”\n",
        "\n",
        "Holmes was sitting with his back to me, and I had given him no sign of my occupation.\n",
        "\n",
        "“How did you know what I was doing? I believe you have eyes in the back of your head.”\n",
        "\n",
        "“I have, at least, a well-polished, silver-plated coffee-pot in front of me,” said he. “But, tell me, Watson, what do you make of our visitor’s stick? Since we have been so unfortunate as to miss him and have no notion of his errand, this accidental souvenir becomes of importance. Let me hear you reconstruct the man by an examination of it.”\n",
        "\n",
        "“I think,” said I, following as far as I could the methods of my companion, “that Dr. Mortimer is a successful, elderly medical man, well-esteemed since those who know him give him this mark of their appreciation.”\n",
        "\n",
        "“Good!” said Holmes. “Excellent!”\n",
        "\n",
        "“I think also that the probability is in favour of his being a country practitioner who does a great deal of his visiting on foot.”\n",
        "\n",
        "“Why so?”\n",
        "\n",
        "“Because this stick, though originally a very handsome one has been so knocked about that I can hardly imagine a town practitioner carrying it. The thick-iron ferrule is worn down, so it is evident that he has done a great amount of walking with it.”\n",
        "\n",
        "“Perfectly sound!” said Holmes.\n",
        "\n",
        "“And then again, there is the ‘friends of the C.C.H.’ I should guess that to be the Something Hunt, the local hunt to whose members he has possibly given some surgical assistance, and which has made him a small presentation in return.”\n",
        "\n",
        "“Really, Watson, you excel yourself,” said Holmes, pushing back his chair and lighting a cigarette. “I am bound to say that in all the accounts which you have been so good as to give of my own small achievements you have habitually underrated your own abilities. It may be that you are not yourself luminous, but you are a conductor of light. Some people without possessing genius have a remarkable power of stimulating it. I confess, my dear fellow, that I am very much in your debt.”\n",
        "\n",
        "He had never said as much before, and I must admit that his words gave me keen pleasure, for I had often been piqued by his indifference to my admiration and to the attempts which I had made to give publicity to his methods. I was proud, too, to think that I had so far mastered his system as to apply it in a way which earned his approval. He now took the stick from my hands and examined it for a few minutes with his naked eyes. Then with an expression of interest he laid down his cigarette, and carrying the cane to the window, he looked over it again with a convex lens.\n",
        "'''\n",
        "\n",
        "#letter_count = {}\n",
        "#for letter in sherlock:\n",
        "#    letter_count[letter.lower()] = letter_count.get(letter,0) + 1\n",
        "#\n",
        "#\n",
        "##    \n",
        "#print(letter_count)    \n",
        "##    \n",
        "#import matplotlib.pyplot as plt\n",
        "##\n",
        "#\n",
        "#\n",
        "#x,y = zip(*letter_count.items())\n",
        "##\n",
        "#plt.bar(x,y)\n",
        "#plt.show()\n",
        "##\n",
        "#letter_count_clean = {}\n",
        "#\n",
        "#for k,v in letter_count.items():\n",
        "#    if k.isalpha():\n",
        "#        letter_count_clean[k] = v\n",
        "#        \n",
        "#print(letter_count_clean)     \n",
        "#\n",
        "#x,y = zip(*letter_count_clean.items())\n",
        "#\n",
        "#plt.bar(x,y) \n",
        "#plt.show()   \n",
        "#\n",
        "#\n",
        "#\n",
        "#my_list_1 = [1,2,3,4]\n",
        "#my_list_2 = ['a','b','c','d']\n",
        "#\n",
        "#joined = list(zip(my_list_1,my_list_2))\n",
        "#print(f'The result of the zip function is {joined} it is of type {type(joined)}')\n",
        "#\n",
        "#i,j = zip(*joined)\n",
        "\n",
        "#print(capitals.items())\n",
        "#print()\n",
        "#x,y = zip(*capitals.items())\n",
        "\n",
        "\n",
        "#new_words = sherlock.split(' ')\n",
        "#\n",
        "#print(new_words)\n",
        "#\n",
        "#'Sherlock' in new_words\n",
        "\n",
        "#for i in range(len(new_words)):\n",
        "#    new_words[i] = new_words[i].strip('\\n')\n",
        "##    \n",
        "#print(new_words)\n",
        "\n",
        "### Tuples\n",
        "\n",
        "#my_tuple = (1,2,3,4)\n",
        "#my_list = [5,6,7,8]\n",
        "#my_string = 'Australia'\n",
        "#\n",
        "#my_tuple[0]\n",
        "#my_tuple[:3]\n",
        "#\n",
        "#my_list[0] = 1000\n",
        "#my_tuple[0] = 2000\n",
        "#my_string[4] = 'q'\n",
        "#\n",
        "### Summary\n",
        "#\n",
        "## Lists are mutable\n",
        "## Dictionaries are mutable\n",
        "## Tuples are immutable\n",
        "## Strings are immutable\n",
        "\n",
        "\n",
        "### Another Dimension\n",
        "\n",
        "#my_list = [[1,2,3],[4,5,6],[7,8,9]]\n",
        "\n",
        "#my_list[0]\n",
        "#my_list[1]\n",
        "#my_list[2]\n",
        "#\n",
        "#my_list[1][1]\n",
        "\n",
        "\n",
        "#countries = {'France':{'Capital':'Paris','Language':'French'},'Spain':{'Capital':'Madrid','Language':'Spanish'},\n",
        "#             'United Kingdom':{'Capital':'London','Language':'English'},\n",
        "#            'United States':{'Capital':'Washington DC','Language':'English'},\n",
        "#            'Italy':{'Capital':'Rome','Language':'Italian'}\n",
        "#            }\n",
        "##\n",
        "##\n",
        "##countries['France']\n",
        "##\n",
        "#for key, value in countries.items():\n",
        "#    print(key,value) \n",
        "#\n",
        "#print()\n",
        "#for key, value in countries.items():\n",
        "#    print(f'{value[\"Capital\"]} is the capital of {key}, they speak {value[\"Language\"]}.')\n"
      ],
      "metadata": {
        "id": "1Gg1y8mAOhQw"
      },
      "execution_count": 11,
      "outputs": []
    },
    {
      "cell_type": "code",
      "source": [
        "from collections import Counter\n",
        "\n",
        "print(Counter(sherlock.lower()))\n",
        "\n",
        "new_dict = dict(Counter(sherlock.lower()))\n",
        "\n",
        "new_dict = {k:v for k,v in new_dict.items() if k.isalpha()}\n",
        "\n",
        "print(new_dict)\n",
        "\n",
        "L = [x**2 for x in range(1,11)]\n",
        "\n",
        "M =[]\n",
        "for x in range(1,11):\n",
        "  M.append(x**2)"
      ],
      "metadata": {
        "colab": {
          "base_uri": "https://localhost:8080/"
        },
        "id": "tLE8pbDxPNOv",
        "outputId": "d3923ac2-acd1-49e8-8f26-bd848a160b60"
      },
      "execution_count": 12,
      "outputs": [
        {
          "output_type": "stream",
          "name": "stdout",
          "text": [
            "Counter({' ': 569, 'e': 257, 'a': 213, 'i': 211, 't': 206, 'o': 199, 's': 172, 'h': 161, 'n': 160, 'r': 114, 'd': 96, 'l': 87, 'c': 77, 'u': 77, 'm': 76, 'w': 61, 'f': 56, 'y': 51, ',': 46, 'g': 44, '.': 39, 'p': 38, 'b': 37, 'v': 32, 'k': 30, '\\n': 28, '“': 18, '”': 18, '-': 8, 'x': 6, '?': 4, 'j': 3, '!': 3, 'q': 2, '8': 2, '’': 2, '1': 1, '4': 1, '—': 1, '‘': 1})\n",
            "{'m': 76, 'r': 114, 's': 172, 'h': 161, 'e': 257, 'l': 87, 'o': 199, 'c': 77, 'k': 30, 'w': 61, 'a': 213, 'u': 77, 'y': 51, 'v': 32, 't': 206, 'i': 211, 'n': 160, 'g': 44, 'p': 38, 'f': 56, 'q': 2, 'd': 96, 'b': 37, 'j': 3, 'x': 6}\n"
          ]
        }
      ]
    },
    {
      "cell_type": "code",
      "source": [],
      "metadata": {
        "id": "l4-J3xddRDPg"
      },
      "execution_count": null,
      "outputs": []
    }
  ]
}