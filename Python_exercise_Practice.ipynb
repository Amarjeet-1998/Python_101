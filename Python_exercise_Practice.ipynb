{
  "nbformat": 4,
  "nbformat_minor": 0,
  "metadata": {
    "colab": {
      "provenance": [],
      "authorship_tag": "ABX9TyNi8WYKUewMbmjbvJhF7C0I",
      "include_colab_link": true
    },
    "kernelspec": {
      "name": "python3",
      "display_name": "Python 3"
    },
    "language_info": {
      "name": "python"
    }
  },
  "cells": [
    {
      "cell_type": "markdown",
      "metadata": {
        "id": "view-in-github",
        "colab_type": "text"
      },
      "source": [
        "<a href=\"https://colab.research.google.com/github/Amarjeet-1998/Python_101/blob/main/Python_exercise_Practice.ipynb\" target=\"_parent\"><img src=\"https://colab.research.google.com/assets/colab-badge.svg\" alt=\"Open In Colab\"/></a>"
      ]
    },
    {
      "cell_type": "markdown",
      "source": [
        "For this exercise\n",
        "\n",
        "* Write a function (\n",
        "guessing_game\n",
        ") that takes no arguments.\n",
        "\n",
        "* When run, the function chooses a random integer between 0 and 100 (inclusive).\n",
        "\n",
        "* Then ask the user to guess what number has been chosen.\n",
        "\n",
        "* Each time the user enters a guess, the program indicates one of the following:\n",
        "– Too high\n",
        "– Too low\n",
        "– Just right\n",
        "\n",
        "* If the user guesses correctly, the program exits. Otherwise, the user is asked to\n",
        "try again.\n",
        "\n",
        "* The program only exits after the user guesses correctly\n"
      ],
      "metadata": {
        "id": "6_f5K3SkrKuo"
      }
    },
    {
      "cell_type": "code",
      "execution_count": null,
      "metadata": {
        "id": "GLKCxFCvrFpC"
      },
      "outputs": [],
      "source": [
        "import random\n",
        "number = random.randint(10,30)"
      ]
    },
    {
      "cell_type": "code",
      "source": [
        "number"
      ],
      "metadata": {
        "colab": {
          "base_uri": "https://localhost:8080/"
        },
        "id": "gR-OFxL7rliL",
        "outputId": "d40ff69c-e24d-4a16-cc82-371de43ba98e"
      },
      "execution_count": null,
      "outputs": [
        {
          "output_type": "execute_result",
          "data": {
            "text/plain": [
              "22"
            ]
          },
          "metadata": {},
          "execution_count": 5
        }
      ]
    },
    {
      "cell_type": "code",
      "source": [
        "name = input ('Enter your name: ')\n",
        "print(f'Hello, {name} !')"
      ],
      "metadata": {
        "colab": {
          "base_uri": "https://localhost:8080/"
        },
        "id": "LrktuR_TrpeZ",
        "outputId": "5a1f2ae1-003a-42ed-fc69-658bd0d5c979"
      },
      "execution_count": null,
      "outputs": [
        {
          "output_type": "stream",
          "name": "stdout",
          "text": [
            "Enter your name: Amarjeet\n",
            "Hello, Amarjeet !\n"
          ]
        }
      ]
    },
    {
      "cell_type": "code",
      "source": [
        "import random\n",
        "\n",
        "def guessing_game():\n",
        "  answer = random.randint(0,100)\n",
        "\n",
        "  while True:\n",
        "    user_guess = int(input('what is your guess? '))\n",
        "\n",
        "    if user_guess == answer:\n",
        "      print(f'Right! This answer is {user_guess}')\n",
        "      break\n",
        "\n",
        "    if user_guess < answer:\n",
        "      print(f'Your guess of {user_guess} is too low!')\n",
        "\n",
        "    else:\n",
        "      print(f'Your guess of {user_guess} is too high!')\n",
        "\n",
        "guessing_game()"
      ],
      "metadata": {
        "colab": {
          "base_uri": "https://localhost:8080/"
        },
        "id": "hco05aQAsFYx",
        "outputId": "8bcbe46d-5db8-4cca-b4e3-026a2c298ae6"
      },
      "execution_count": null,
      "outputs": [
        {
          "output_type": "stream",
          "name": "stdout",
          "text": [
            "what is your guess? 25\n",
            "Your guess of 25 is too low!\n",
            "what is your guess? 69\n",
            "Your guess of 69 is too high!\n",
            "what is your guess? 45\n",
            "Your guess of 45 is too high!\n",
            "what is your guess? 36\n",
            "Your guess of 36 is too low!\n",
            "what is your guess? 41\n",
            "Your guess of 41 is too high!\n",
            "what is your guess? 38\n",
            "Your guess of 38 is too high!\n",
            "what is your guess? 37\n",
            "Right! This answer is 37\n"
          ]
        }
      ]
    },
    {
      "cell_type": "code",
      "source": [
        "name = 'world'\n",
        "f'Hello, {name}'"
      ],
      "metadata": {
        "colab": {
          "base_uri": "https://localhost:8080/",
          "height": 36
        },
        "id": "k9QarHpLucBU",
        "outputId": "b327d4da-72ac-4f07-e492-ec8e8d929b02"
      },
      "execution_count": null,
      "outputs": [
        {
          "output_type": "execute_result",
          "data": {
            "text/plain": [
              "'Hello, world'"
            ],
            "application/vnd.google.colaboratory.intrinsic+json": {
              "type": "string"
            }
          },
          "metadata": {},
          "execution_count": 8
        }
      ]
    },
    {
      "cell_type": "code",
      "source": [
        "def mysum(*numbers):\n",
        "  output = 0\n",
        "  for number in numbers:\n",
        "    output += number\n",
        "\n",
        "  return output\n",
        "\n",
        "print(mysum(10,20,30,40))\n"
      ],
      "metadata": {
        "colab": {
          "base_uri": "https://localhost:8080/"
        },
        "id": "YDsjP4cpwBUL",
        "outputId": "909ca7d4-2138-4d50-d587-b9ef4a360ec6"
      },
      "execution_count": null,
      "outputs": [
        {
          "output_type": "stream",
          "name": "stdout",
          "text": [
            "100\n"
          ]
        }
      ]
    },
    {
      "cell_type": "code",
      "source": [
        "try:\n",
        "  n = float(input('Enter a number: '))\n",
        "  print(f'n={n}')\n",
        "\n",
        "except ValueError as e:\n",
        "  print(\"Hey! That's not a valid number!\")\n",
        "\n",
        "\n"
      ],
      "metadata": {
        "colab": {
          "base_uri": "https://localhost:8080/"
        },
        "id": "jXm0Z--Nwlna",
        "outputId": "d9f72bb5-c5a4-436e-d916-2f0d33350a6b"
      },
      "execution_count": null,
      "outputs": [
        {
          "output_type": "stream",
          "name": "stdout",
          "text": [
            "Enter a number: amar\n",
            "Hey! That's not a valid number!\n"
          ]
        }
      ]
    },
    {
      "cell_type": "code",
      "source": [
        "def run_timing():\n",
        "  \"\"\" Ask the user repeatedly for numeric input. prints the average time and number of runs.\n",
        "  \"\"\"\n",
        "\n",
        "  number_of_runs = 0\n",
        "  total_time = 0\n",
        "\n",
        "  while True:\n",
        "    one_run = input('Enter 10 km run time: ')\n",
        "\n",
        "    if not one_run:\n",
        "      break\n",
        "\n",
        "      number_of_runs += 1\n",
        "      total_time += float(one_run)\n",
        "\n",
        "  average_time = total_time / number_of_runs\n",
        "  print(f'Average of {average_time}, over {number_of_runs} runs')\n",
        "\n",
        "run_timing()"
      ],
      "metadata": {
        "colab": {
          "base_uri": "https://localhost:8080/",
          "height": 391
        },
        "id": "jKrbzX4zxkye",
        "outputId": "87baa7de-786f-4d15-9938-222d75f59029"
      },
      "execution_count": null,
      "outputs": [
        {
          "name": "stdout",
          "output_type": "stream",
          "text": [
            "Enter 10 km run time: 25\n",
            "Enter 10 km run time: 25\n",
            "Enter 10 km run time: 25\n",
            "Enter 10 km run time: \n"
          ]
        },
        {
          "output_type": "error",
          "ename": "ZeroDivisionError",
          "evalue": "ignored",
          "traceback": [
            "\u001b[0;31m---------------------------------------------------------------------------\u001b[0m",
            "\u001b[0;31mZeroDivisionError\u001b[0m                         Traceback (most recent call last)",
            "\u001b[0;32m<ipython-input-16-f0866b564f91>\u001b[0m in \u001b[0;36m<module>\u001b[0;34m\u001b[0m\n\u001b[1;32m     18\u001b[0m   \u001b[0mprint\u001b[0m\u001b[0;34m(\u001b[0m\u001b[0;34mf'Average of {average_time}, over {number_of_runs} runs'\u001b[0m\u001b[0;34m)\u001b[0m\u001b[0;34m\u001b[0m\u001b[0;34m\u001b[0m\u001b[0m\n\u001b[1;32m     19\u001b[0m \u001b[0;34m\u001b[0m\u001b[0m\n\u001b[0;32m---> 20\u001b[0;31m \u001b[0mrun_timing\u001b[0m\u001b[0;34m(\u001b[0m\u001b[0;34m)\u001b[0m\u001b[0;34m\u001b[0m\u001b[0;34m\u001b[0m\u001b[0m\n\u001b[0m",
            "\u001b[0;32m<ipython-input-16-f0866b564f91>\u001b[0m in \u001b[0;36mrun_timing\u001b[0;34m()\u001b[0m\n\u001b[1;32m     15\u001b[0m       \u001b[0mtotal_time\u001b[0m \u001b[0;34m+=\u001b[0m \u001b[0mfloat\u001b[0m\u001b[0;34m(\u001b[0m\u001b[0mone_run\u001b[0m\u001b[0;34m)\u001b[0m\u001b[0;34m\u001b[0m\u001b[0;34m\u001b[0m\u001b[0m\n\u001b[1;32m     16\u001b[0m \u001b[0;34m\u001b[0m\u001b[0m\n\u001b[0;32m---> 17\u001b[0;31m   \u001b[0maverage_time\u001b[0m \u001b[0;34m=\u001b[0m \u001b[0mtotal_time\u001b[0m \u001b[0;34m/\u001b[0m \u001b[0mnumber_of_runs\u001b[0m\u001b[0;34m\u001b[0m\u001b[0;34m\u001b[0m\u001b[0m\n\u001b[0m\u001b[1;32m     18\u001b[0m   \u001b[0mprint\u001b[0m\u001b[0;34m(\u001b[0m\u001b[0;34mf'Average of {average_time}, over {number_of_runs} runs'\u001b[0m\u001b[0;34m)\u001b[0m\u001b[0;34m\u001b[0m\u001b[0;34m\u001b[0m\u001b[0m\n\u001b[1;32m     19\u001b[0m \u001b[0;34m\u001b[0m\u001b[0m\n",
            "\u001b[0;31mZeroDivisionError\u001b[0m: division by zero"
          ]
        }
      ]
    },
    {
      "cell_type": "code",
      "source": [
        "for index, one_letter in enumerate('abcd'):\n",
        "  print(f'{index}: {one_letter}')"
      ],
      "metadata": {
        "colab": {
          "base_uri": "https://localhost:8080/"
        },
        "id": "OD3TtN_2y4OI",
        "outputId": "b7aa8aad-1b0e-4713-fa1c-a9c268bd72bb"
      },
      "execution_count": null,
      "outputs": [
        {
          "output_type": "stream",
          "name": "stdout",
          "text": [
            "0: a\n",
            "1: b\n",
            "2: c\n",
            "3: d\n"
          ]
        }
      ]
    },
    {
      "cell_type": "code",
      "source": [
        "def hex_output():\n",
        "  decnum = 0\n",
        "  hexnum = input('Enter a hex number to convert: ')\n",
        "  for power, digit in enumerate (reversed(hexnum)):\n",
        "    decnum += int(digit, 16) * (16 ** power)\n",
        "\n",
        "  print(decnum)\n",
        "\n",
        "hex_output()"
      ],
      "metadata": {
        "colab": {
          "base_uri": "https://localhost:8080/"
        },
        "id": "9j_zoLPc9I-O",
        "outputId": "6a9559c3-db31-4d16-daa0-c5c8868156ff"
      },
      "execution_count": null,
      "outputs": [
        {
          "output_type": "stream",
          "name": "stdout",
          "text": [
            "Enter a hex number to convert: 34567788\n",
            "878081928\n"
          ]
        }
      ]
    },
    {
      "cell_type": "markdown",
      "source": [
        "# Strings"
      ],
      "metadata": {
        "id": "ryC_1x9j-ejq"
      }
    },
    {
      "cell_type": "code",
      "source": [
        "def latin(word):\n",
        "  if word[0] in 'aeiou':\n",
        "    return f'{word}way'\n",
        "\n",
        "  return f'{word[1:]}{word[0]}ay'\n",
        "\n",
        "print(latin('python'))\n"
      ],
      "metadata": {
        "colab": {
          "base_uri": "https://localhost:8080/"
        },
        "id": "qys6TaLx-EUg",
        "outputId": "c62fbe0b-6253-4089-ceb7-ea72a2f44582"
      },
      "execution_count": null,
      "outputs": [
        {
          "output_type": "stream",
          "name": "stdout",
          "text": [
            "ythonpay\n"
          ]
        }
      ]
    },
    {
      "cell_type": "code",
      "source": [
        "def pl_sentence(sentence):\n",
        "  output = []\n",
        "  for word in sentence.split():\n",
        "    if word[0] in 'aeiou':\n",
        "      output.append(f'{word}way')\n",
        "    else:\n",
        "      output.append(f'{word[1:]}{word[0]}ay')\n",
        "    \n",
        "  return ' '.join(output)\n",
        "\n",
        "print(pl_sentence('this is a test'))"
      ],
      "metadata": {
        "colab": {
          "base_uri": "https://localhost:8080/"
        },
        "id": "R8vp0WfZBp_2",
        "outputId": "5fa26914-d35f-4d4b-ffcf-1720872e69d5"
      },
      "execution_count": null,
      "outputs": [
        {
          "output_type": "stream",
          "name": "stdout",
          "text": [
            "histay isway away esttay\n"
          ]
        }
      ]
    },
    {
      "cell_type": "code",
      "source": [
        "def ubbi_dubbi(word):\n",
        "  output = []\n",
        "\n",
        "  for letter in word:\n",
        "    if letter in 'aeiou':\n",
        "      output.append(f'ub{letter}')\n",
        "    else:\n",
        "      output.append(letter)\n",
        "\n",
        "  return ''.join(output)\n",
        "\n",
        "print(ubbi_dubbi('python'))"
      ],
      "metadata": {
        "colab": {
          "base_uri": "https://localhost:8080/"
        },
        "id": "O7JFOGijC5OL",
        "outputId": "d15b7cf5-e3e4-48e1-9299-6cd5f744ed65"
      },
      "execution_count": null,
      "outputs": [
        {
          "output_type": "stream",
          "name": "stdout",
          "text": [
            "pythubon\n"
          ]
        }
      ]
    },
    {
      "cell_type": "code",
      "source": [
        "def strsort(a_string):\n",
        "  return ''.join(sorted(a_string))\n",
        "\n",
        "print(strsort('cbjeaf'))"
      ],
      "metadata": {
        "colab": {
          "base_uri": "https://localhost:8080/"
        },
        "id": "ZYva2PS7Di3x",
        "outputId": "aec37056-16b2-458d-ee98-dad0c3fa0607"
      },
      "execution_count": null,
      "outputs": [
        {
          "output_type": "stream",
          "name": "stdout",
          "text": [
            "abcefj\n"
          ]
        }
      ]
    },
    {
      "cell_type": "markdown",
      "source": [
        "# Lists and tuples"
      ],
      "metadata": {
        "id": "hmelUfkiEAbL"
      }
    },
    {
      "cell_type": "code",
      "source": [
        "mylist = [10,20,30,40,50]\n",
        "\n",
        "first = mylist[1:3]\n",
        "last = mylist[3:5]"
      ],
      "metadata": {
        "id": "gur98lvNDv4M"
      },
      "execution_count": null,
      "outputs": []
    },
    {
      "cell_type": "code",
      "source": [
        "first"
      ],
      "metadata": {
        "colab": {
          "base_uri": "https://localhost:8080/"
        },
        "id": "8nOMB6apE-X-",
        "outputId": "4ea7063e-ac4a-4f17-d439-b2f6a7cb047b"
      },
      "execution_count": null,
      "outputs": [
        {
          "output_type": "execute_result",
          "data": {
            "text/plain": [
              "[20, 30]"
            ]
          },
          "metadata": {},
          "execution_count": 27
        }
      ]
    },
    {
      "cell_type": "code",
      "source": [
        "last"
      ],
      "metadata": {
        "colab": {
          "base_uri": "https://localhost:8080/"
        },
        "id": "T9N_9AsYE_eR",
        "outputId": "fa9717c1-5e49-44fc-e392-554db06f0ba4"
      },
      "execution_count": null,
      "outputs": [
        {
          "output_type": "execute_result",
          "data": {
            "text/plain": [
              "[40, 50]"
            ]
          },
          "metadata": {},
          "execution_count": 28
        }
      ]
    },
    {
      "cell_type": "code",
      "source": [
        "t = (10,20,30,40,50)\n",
        "\n",
        "first = t[1:3]\n",
        "last = t[3:5]"
      ],
      "metadata": {
        "id": "rZp2urFIFAmE"
      },
      "execution_count": null,
      "outputs": []
    },
    {
      "cell_type": "code",
      "source": [
        "first\n"
      ],
      "metadata": {
        "colab": {
          "base_uri": "https://localhost:8080/"
        },
        "id": "5I5oi107FL1V",
        "outputId": "d11b2117-d8f0-42ec-eacc-fbe1d8c5c324"
      },
      "execution_count": null,
      "outputs": [
        {
          "output_type": "execute_result",
          "data": {
            "text/plain": [
              "(20, 30)"
            ]
          },
          "metadata": {},
          "execution_count": 31
        }
      ]
    },
    {
      "cell_type": "code",
      "source": [
        "last"
      ],
      "metadata": {
        "colab": {
          "base_uri": "https://localhost:8080/"
        },
        "id": "lIvhGcEOFO6w",
        "outputId": "cf6ffacb-7018-4ba2-feb1-af041972cb8d"
      },
      "execution_count": null,
      "outputs": [
        {
          "output_type": "execute_result",
          "data": {
            "text/plain": [
              "(40, 50)"
            ]
          },
          "metadata": {},
          "execution_count": 32
        }
      ]
    },
    {
      "cell_type": "code",
      "source": [
        "def firstlast (sequence):\n",
        "  return sequence[0] + sequence[-1]\n",
        "\n",
        "t1 = ('a','b','c')\n",
        "output1 = firstlast(t1)\n",
        "print(output1)"
      ],
      "metadata": {
        "colab": {
          "base_uri": "https://localhost:8080/"
        },
        "id": "BTLxNyQKFSBK",
        "outputId": "3ec62077-4272-411e-c695-0f9f132cb118"
      },
      "execution_count": null,
      "outputs": [
        {
          "output_type": "stream",
          "name": "stdout",
          "text": [
            "ac\n"
          ]
        }
      ]
    },
    {
      "cell_type": "code",
      "source": [
        "t2 = (1,2,3,4)\n",
        "\n",
        "output2 = firstlast(t2)\n",
        "print(output2)"
      ],
      "metadata": {
        "colab": {
          "base_uri": "https://localhost:8080/"
        },
        "id": "MFhD1gT-FrHn",
        "outputId": "3d5d424f-1bac-4337-9282-80021ecc2552"
      },
      "execution_count": null,
      "outputs": [
        {
          "output_type": "stream",
          "name": "stdout",
          "text": [
            "5\n"
          ]
        }
      ]
    },
    {
      "cell_type": "code",
      "source": [
        "import sys\n",
        "mylist = []\n",
        "for i in range(25):\n",
        "  l = len(mylist)\n",
        "  s = sys.getsizeof(mylist)\n",
        "  print(f'len = {l}, size = {s}')\n",
        "  mylist.append(i)"
      ],
      "metadata": {
        "colab": {
          "base_uri": "https://localhost:8080/"
        },
        "id": "a0j62RY5F5lv",
        "outputId": "9cbf6842-9eee-497d-c126-bfa8cab3d756"
      },
      "execution_count": null,
      "outputs": [
        {
          "output_type": "stream",
          "name": "stdout",
          "text": [
            "len = 0, size = 72\n",
            "len = 1, size = 104\n",
            "len = 2, size = 104\n",
            "len = 3, size = 104\n",
            "len = 4, size = 104\n",
            "len = 5, size = 136\n",
            "len = 6, size = 136\n",
            "len = 7, size = 136\n",
            "len = 8, size = 136\n",
            "len = 9, size = 200\n",
            "len = 10, size = 200\n",
            "len = 11, size = 200\n",
            "len = 12, size = 200\n",
            "len = 13, size = 200\n",
            "len = 14, size = 200\n",
            "len = 15, size = 200\n",
            "len = 16, size = 200\n",
            "len = 17, size = 272\n",
            "len = 18, size = 272\n",
            "len = 19, size = 272\n",
            "len = 20, size = 272\n",
            "len = 21, size = 272\n",
            "len = 22, size = 272\n",
            "len = 23, size = 272\n",
            "len = 24, size = 272\n"
          ]
        }
      ]
    },
    {
      "cell_type": "code",
      "source": [
        "def mysum(*items):\n",
        "  if not items:\n",
        "    return items\n",
        "  output = items[0]\n",
        "  for item in items[1:]:\n",
        "    output += item\n",
        "  \n",
        "  return output\n",
        "\n",
        "print(mysum(10,20,30,40))\n"
      ],
      "metadata": {
        "colab": {
          "base_uri": "https://localhost:8080/"
        },
        "id": "UPCbi0TcGjZa",
        "outputId": "3c133f4b-4528-49bb-cfea-be2164e91855"
      },
      "execution_count": null,
      "outputs": [
        {
          "output_type": "stream",
          "name": "stdout",
          "text": [
            "100\n"
          ]
        }
      ]
    },
    {
      "cell_type": "code",
      "source": [
        "def mysum(*items):\n",
        "  if not items:\n",
        "    return items\n",
        "  output = items[0]\n",
        "\n",
        "  for item in items[1:]:\n",
        "    output += item\n",
        "\n",
        "  return output\n",
        "\n",
        "print(mysum())\n",
        "print(mysum(10,20,30,40,50))\n",
        "print(mysum('a','b','c','d'))\n",
        "print(mysum([10,20,30],[40,50,60], [70,80]))\n"
      ],
      "metadata": {
        "colab": {
          "base_uri": "https://localhost:8080/"
        },
        "id": "-myKr2TSHI5N",
        "outputId": "5eb8a69b-c795-4a6f-930d-16c92137202b"
      },
      "execution_count": null,
      "outputs": [
        {
          "output_type": "stream",
          "name": "stdout",
          "text": [
            "()\n",
            "150\n",
            "abcd\n",
            "[10, 20, 30, 40, 50, 60, 70, 80]\n"
          ]
        }
      ]
    },
    {
      "cell_type": "code",
      "source": [
        "import operator\n",
        "people = [{'first':'Reuven','last':'Learner',\n",
        "           'email':'reuven@learner,co,il'},\n",
        "          {'first': 'Donald','last':'Trump',\n",
        "           'email':'president@ksd.hi'},\n",
        "          {'first':'Amar','last':'kumar',\n",
        "           'email':'president@ksd.hi'}\n",
        "          ]\n",
        "\n",
        "def alphabetize_name(list_of_dicts):\n",
        "  return sorted(list_of_dicts,\n",
        "                key = operator.itemgetter('last','first'))\n",
        "  \n",
        "print(alphabetize_name(people))"
      ],
      "metadata": {
        "colab": {
          "base_uri": "https://localhost:8080/"
        },
        "id": "8SOyeHt6H7Oq",
        "outputId": "89cee02b-b267-44b2-ab90-ac60b81dd417"
      },
      "execution_count": null,
      "outputs": [
        {
          "output_type": "stream",
          "name": "stdout",
          "text": [
            "[{'first': 'Reuven', 'last': 'Learner', 'email': 'reuven@learner,co,il'}, {'first': 'Donald', 'last': 'Trump', 'email': 'president@ksd.hi'}, {'first': 'Amar', 'last': 'kumar', 'email': 'president@ksd.hi'}]\n"
          ]
        }
      ]
    },
    {
      "cell_type": "code",
      "source": [
        "import operator\n",
        "PEOPLE = [('Donald', 'Trump', 7.85),\n",
        "('Vladimir', 'Putin', 3.626),\n",
        "('Jinping', 'Xi', 10.603)]\n",
        "\n",
        "def format_sort_records(list_of_tuples):\n",
        "  output = []\n",
        "  template = '{1:10} {0:10} {2:5.2f}'\n",
        "  for person in sorted(list_of_tuples,\n",
        "                       key=operator.itemgetter(1,0)):\n",
        "    \n",
        "    output.append(template.format(*person))\n",
        "  return output\n",
        "\n",
        "print('\\n'.join(format_sort_records(PEOPLE)))"
      ],
      "metadata": {
        "id": "3Vy1dFvnJcSC",
        "colab": {
          "base_uri": "https://localhost:8080/"
        },
        "outputId": "da0d349d-619e-4ce2-9061-7a8b90769327"
      },
      "execution_count": null,
      "outputs": [
        {
          "output_type": "stream",
          "name": "stdout",
          "text": [
            "Putin      Vladimir    3.63\n",
            "Trump      Donald      7.85\n",
            "Xi         Jinping    10.60\n"
          ]
        }
      ]
    },
    {
      "cell_type": "code",
      "source": [
        "#Defines a constant dict with item names (strings) and prices(integer)\n",
        "MENU = {'sandwich': 10, 'tea': 7,'salad':9}\n",
        "\n",
        "#Keeps asking the user for input, until an explicit \"break\" from the loop\n",
        "def restaurant():\n",
        "  total = 0\n",
        "  while True:\n",
        "    order = input('Order: ').strip()       #Gets the user's input, and uses str.strip to remove leading and trailing whitespace\n",
        "\n",
        "    if not order:                      #if 'order' is an empty string,break out of the loop.\n",
        "      break\n",
        "\n",
        "    if order in MENU:                 # if \"order\" is a defined menu item, then get its price and add to total\n",
        "      price = MENU[order]\n",
        "      total += price\n",
        "      print(f'{order} is {price}, total is {total}')\n",
        "\n",
        "    else:                                          # if \"order\" is neither empty nor in the dict, then we don't serve this item.\n",
        "      print(f'We are fresh out of {order} today')\n",
        "  \n",
        "  \n",
        "  print(f'Your total is {total}')\n",
        "\n",
        "restaurant()\n",
        "\n"
      ],
      "metadata": {
        "colab": {
          "base_uri": "https://localhost:8080/"
        },
        "id": "zA7p3z5kEX1R",
        "outputId": "0b2d5ae1-de33-481e-cbed-1796dbe90966"
      },
      "execution_count": null,
      "outputs": [
        {
          "output_type": "stream",
          "name": "stdout",
          "text": [
            "Order: tea\n",
            "tea is 7, total is 7\n",
            "Order: sandwich\n",
            "sandwich is 10, total is 17\n",
            "Order: salad\n",
            "salad is 9, total is 26\n",
            "Order: \n",
            "Your total is 26\n"
          ]
        }
      ]
    },
    {
      "cell_type": "code",
      "source": [
        "def get_rainfall():\n",
        "  rainfall = {}\n",
        "\n",
        "  while True:\n",
        "    city_name = input('Enter city name: ')\n",
        "    if not city_name:\n",
        "      break\n",
        "\n",
        "    mm_rain = input('Enter mm rain: ')\n",
        "    rainfall[city_name] = rainfall.get(city_name,0) + int(mm_rain)\n",
        "\n",
        "  for city,rain in rainfall.items():\n",
        "    print(f'{city} : {rain}')\n",
        "\n",
        "get_rainfall()"
      ],
      "metadata": {
        "colab": {
          "base_uri": "https://localhost:8080/"
        },
        "id": "f3B7D5aBJzVu",
        "outputId": "089957d4-1e29-422d-d87e-3aebfa3e0c56"
      },
      "execution_count": null,
      "outputs": [
        {
          "output_type": "stream",
          "name": "stdout",
          "text": [
            "Enter city name: boston\n",
            "Enter mm rain: 12\n",
            "Enter city name: New York\n",
            "Enter mm rain: 10\n",
            "Enter city name: alaska\n",
            "Enter mm rain: 28\n",
            "Enter city name: wisconsin\n",
            "Enter mm rain: 14\n",
            "Enter city name: \n",
            "boston : 12\n",
            "New York : 10\n",
            "alaska : 28\n",
            "wisconsin : 14\n"
          ]
        }
      ]
    },
    {
      "cell_type": "code",
      "source": [
        "def dicdiff(first, second):\n",
        "  output = {}\n",
        "  all_keys = first.keys() | second.keys()\n",
        "\n",
        "\n",
        "  for key in all_keys:\n",
        "    if first.get(key) != second.get(key):\n",
        "      output[key] = [first.get(key), second.get(key)]\n",
        "\n",
        "  return output\n",
        "\n",
        "d1 = {'a': 1,'b':2,'c': 3}\n",
        "d2 = {'a':1,'b':2,'c':4}\n",
        "\n",
        "print(dicdiff(d1,d2))"
      ],
      "metadata": {
        "colab": {
          "base_uri": "https://localhost:8080/"
        },
        "id": "eDI9F9eiMyXf",
        "outputId": "752084a6-8ab6-49f0-d71e-dfd6dd0926e8"
      },
      "execution_count": null,
      "outputs": [
        {
          "output_type": "stream",
          "name": "stdout",
          "text": [
            "{'c': [3, 4]}\n"
          ]
        }
      ]
    },
    {
      "cell_type": "code",
      "source": [
        "def how_many_different_numbers(numbers):\n",
        "  unique_numbers = set(numbers)\n",
        "  return len(unique_numbers)\n",
        "\n",
        "print(how_many_different_numbers([1,2,3,4,5,6,75,7,5,4,63,6,3,3]))"
      ],
      "metadata": {
        "colab": {
          "base_uri": "https://localhost:8080/"
        },
        "id": "t24qzpNfOMjh",
        "outputId": "04e58885-ec8a-46e6-a48d-46b4a5a49bc6"
      },
      "execution_count": null,
      "outputs": [
        {
          "output_type": "stream",
          "name": "stdout",
          "text": [
            "9\n"
          ]
        }
      ]
    },
    {
      "cell_type": "code",
      "source": [],
      "metadata": {
        "id": "k0uCdSS2PLOj"
      },
      "execution_count": null,
      "outputs": []
    },
    {
      "cell_type": "markdown",
      "source": [
        "f = open(filename)\n",
        "\n",
        "f = open(openfile, 'r')\n"
      ],
      "metadata": {
        "id": "RPzig4E2TD5O"
      }
    },
    {
      "cell_type": "code",
      "source": [
        "''' for current_line in f:\n",
        "    print(current_line)'''\n",
        "\n",
        "''' for current_line in open(filename):\n",
        "      print(current_line)'''\n",
        "\n",
        "\"\"\" with open(filename) as f:\n",
        "      for one_line in f:\n",
        "        print(len(one_line))\"\"\" \n",
        "\n",
        "  "
      ],
      "metadata": {
        "colab": {
          "base_uri": "https://localhost:8080/",
          "height": 53
        },
        "id": "fvZAMTvPRun9",
        "outputId": "1250fb88-8328-46f9-a100-8a02722f8199"
      },
      "execution_count": null,
      "outputs": [
        {
          "output_type": "execute_result",
          "data": {
            "text/plain": [
              "' with open(filename) as f:\\n      for one_line in f:\\n        print(len(one_line))'"
            ],
            "application/vnd.google.colaboratory.intrinsic+json": {
              "type": "string"
            }
          },
          "metadata": {},
          "execution_count": 13
        }
      ]
    },
    {
      "cell_type": "code",
      "source": [
        "'''def get_final_line(filename):\n",
        "  final_line = ''\n",
        "  for current_line in open(filename):\n",
        "    final_line = current_line\n",
        "  return final_line\n",
        "\n",
        "print(get_final_line('/etc/password'))'''"
      ],
      "metadata": {
        "colab": {
          "base_uri": "https://localhost:8080/",
          "height": 70
        },
        "id": "D595XkrpWByT",
        "outputId": "28f14d20-c84f-4566-efc8-aa46753b9418"
      },
      "execution_count": null,
      "outputs": [
        {
          "output_type": "execute_result",
          "data": {
            "text/plain": [
              "\"def get_final_line(filename):\\n  final_line = ''\\n  for current_line in open(filename):\\n    final_line = current_line\\n  return final_line\\n\\nprint(get_final_line('/etc/password'))\""
            ],
            "application/vnd.google.colaboratory.intrinsic+json": {
              "type": "string"
            }
          },
          "metadata": {},
          "execution_count": 14
        }
      ]
    },
    {
      "cell_type": "code",
      "source": [
        "x = 100\n",
        "\n",
        "def foo():\n",
        "  x = 200\n",
        "  print(x)\n",
        "\n",
        "print(x)\n",
        "foo()\n",
        "print(x)"
      ],
      "metadata": {
        "colab": {
          "base_uri": "https://localhost:8080/"
        },
        "id": "8UOHi6PKWaSH",
        "outputId": "08851914-be82-4489-92d2-4d20dc499eb0"
      },
      "execution_count": null,
      "outputs": [
        {
          "output_type": "stream",
          "name": "stdout",
          "text": [
            "100\n",
            "200\n",
            "100\n"
          ]
        }
      ]
    },
    {
      "cell_type": "code",
      "source": [
        "def foo(x):\n",
        "  def bar(y):\n",
        "    return x * y\n",
        "  return bar\n",
        "\n",
        "f = foo(10)\n",
        "print(f(20))"
      ],
      "metadata": {
        "colab": {
          "base_uri": "https://localhost:8080/"
        },
        "id": "DOhGR0Z4W_F4",
        "outputId": "ce08b7fb-b342-49a9-d5f3-550a69cd4002"
      },
      "execution_count": null,
      "outputs": [
        {
          "output_type": "stream",
          "name": "stdout",
          "text": [
            "200\n"
          ]
        }
      ]
    },
    {
      "cell_type": "code",
      "source": [
        "def foo():\n",
        "  call_counter = 0\n",
        "  def bar (y):\n",
        "    nonlocal call_counter\n",
        "    call_counter += 1\n",
        "    return (f'y = {y}, call_counter = {call_counter}')\n",
        "\n",
        "  return bar\n",
        "\n",
        "b = foo()\n",
        "for i in range(10,100,10):\n",
        "  print(b(i))"
      ],
      "metadata": {
        "colab": {
          "base_uri": "https://localhost:8080/"
        },
        "id": "mDzOtDOVXTZo",
        "outputId": "a696926c-2054-4854-8828-7e966ec90ade"
      },
      "execution_count": null,
      "outputs": [
        {
          "output_type": "stream",
          "name": "stdout",
          "text": [
            "y = 10, call_counter = 1\n",
            "y = 20, call_counter = 2\n",
            "y = 30, call_counter = 3\n",
            "y = 40, call_counter = 4\n",
            "y = 50, call_counter = 5\n",
            "y = 60, call_counter = 6\n",
            "y = 70, call_counter = 7\n",
            "y = 80, call_counter = 8\n",
            "y = 90, call_counter = 9\n"
          ]
        }
      ]
    },
    {
      "cell_type": "code",
      "source": [
        "def odd_even(a):\n",
        "  even = []\n",
        "  odd = []\n",
        "  for i in a:\n",
        "    if i % 2 == 0:\n",
        "      even.append(i)\n",
        "    if i % 2 != 0:\n",
        "      odd.append(i)\n",
        "  return max(even) - min(odd)\n",
        "print(odd_even([1,2,3,4,6]))"
      ],
      "metadata": {
        "id": "bZZD23HpYG-9",
        "colab": {
          "base_uri": "https://localhost:8080/"
        },
        "outputId": "a6aadf43-7ed9-4d61-c075-9a6c593071f5"
      },
      "execution_count": 1,
      "outputs": [
        {
          "output_type": "stream",
          "name": "stdout",
          "text": [
            "5\n"
          ]
        }
      ]
    },
    {
      "cell_type": "code",
      "source": [
        "def prime_numbers() -> list:\n",
        "  prime_num = []\n",
        "  n = int(input('Please enter a number (interger): '))\n",
        "  # creating a range of the input number\n",
        "  # remember to add a 1 and the end ensure\n",
        "  # all numbers in the range are covered\n",
        "\n",
        "  for i in range(0, n + 1):\n",
        "    #only numbers above 1 are needed\n",
        "    if i > 1:\n",
        "      for j in range(2, i):\n",
        "        #if a number in the range is divisible by j\n",
        "        # then number is not prime\n",
        "        if i % j == 0:\n",
        "          break\n",
        "        else:\n",
        "          prime_num.append(i)\n",
        "\n",
        "  return prime_num\n",
        "\n",
        "print( prime_numbers())"
      ],
      "metadata": {
        "colab": {
          "base_uri": "https://localhost:8080/"
        },
        "id": "acdEY1aB-dTC",
        "outputId": "91afe22f-875e-469d-815a-ab34dae9e4f3"
      },
      "execution_count": 2,
      "outputs": [
        {
          "output_type": "stream",
          "name": "stdout",
          "text": [
            "Please enter a number (interger): 4\n",
            "[3]\n"
          ]
        }
      ]
    },
    {
      "cell_type": "code",
      "source": [
        "def biggest_odd(string1: str):\n",
        "  odd_nums = [i for i in string1 if int(i) % 2 != 0]\n",
        "  return (f'The biggest old number is {max(odd_nums)}')\n",
        "\n",
        "print(biggest_odd('23569'))"
      ],
      "metadata": {
        "colab": {
          "base_uri": "https://localhost:8080/"
        },
        "id": "O0icTiUv_0Ep",
        "outputId": "abb90168-f86e-424a-c43b-6c445c284cad"
      },
      "execution_count": 3,
      "outputs": [
        {
          "output_type": "stream",
          "name": "stdout",
          "text": [
            "The biggest old number is 9\n"
          ]
        }
      ]
    },
    {
      "cell_type": "code",
      "source": [
        "def zeros_last(arr: list) -> list:\n",
        "  i = 0\n",
        "  arr1 = arr\n",
        "  for num in arr:\n",
        "    if num != 0:\n",
        "      #moving non-zero numbers to the front of the list\n",
        "      arr[i] = num\n",
        "      i += 1\n",
        "\n",
        "  #Moving zero elements to the end of the list\n",
        "  while i < len(arr):\n",
        "    arr[i] = 0\n",
        "    i += 1\n",
        "    return arr\n",
        "  \n",
        "  else:\n",
        "    # if no zeros return original list in ascending order\n",
        "    return sorted(arr1)\n",
        "\n",
        "list1 = [1,4,6,0,7,0]\n",
        "list2 = [2, 1, 4, 7, 6]\n",
        "\n",
        "print(zeros_last(list1))\n",
        "print(zeros_last(list2))"
      ],
      "metadata": {
        "colab": {
          "base_uri": "https://localhost:8080/"
        },
        "id": "Wek3q32WARc5",
        "outputId": "4e96cf1a-6bca-40dc-cb56-4fab8d3d9105"
      },
      "execution_count": 4,
      "outputs": [
        {
          "output_type": "stream",
          "name": "stdout",
          "text": [
            "[1, 4, 6, 7, 0, 0]\n",
            "[1, 2, 4, 6, 7]\n"
          ]
        }
      ]
    },
    {
      "cell_type": "code",
      "source": [
        "# create password function\n",
        "def your_password():\n",
        "  password1 = input(\"Enter password\")\n",
        "  password = len(password) * ('*')\n",
        "  return (f'You password is {password}' \\\n",
        "          f'and its {len(password) } characters long')\n",
        "  \n",
        "print(your_password())"
      ],
      "metadata": {
        "colab": {
          "base_uri": "https://localhost:8080/",
          "height": 339
        },
        "id": "lrOz4ymPBhym",
        "outputId": "abc8b1e8-c64c-4446-a8d8-f155c42eb03a"
      },
      "execution_count": 6,
      "outputs": [
        {
          "name": "stdout",
          "output_type": "stream",
          "text": [
            "Enter password123445\n"
          ]
        },
        {
          "output_type": "error",
          "ename": "UnboundLocalError",
          "evalue": "ignored",
          "traceback": [
            "\u001b[0;31m---------------------------------------------------------------------------\u001b[0m",
            "\u001b[0;31mUnboundLocalError\u001b[0m                         Traceback (most recent call last)",
            "\u001b[0;32m<ipython-input-6-4ecc0021aa72>\u001b[0m in \u001b[0;36m<module>\u001b[0;34m\u001b[0m\n\u001b[1;32m      6\u001b[0m           f'and its {len(password) } characters long')\n\u001b[1;32m      7\u001b[0m \u001b[0;34m\u001b[0m\u001b[0m\n\u001b[0;32m----> 8\u001b[0;31m \u001b[0mprint\u001b[0m\u001b[0;34m(\u001b[0m\u001b[0myour_password\u001b[0m\u001b[0;34m(\u001b[0m\u001b[0;34m)\u001b[0m\u001b[0;34m)\u001b[0m\u001b[0;34m\u001b[0m\u001b[0;34m\u001b[0m\u001b[0m\n\u001b[0m",
            "\u001b[0;32m<ipython-input-6-4ecc0021aa72>\u001b[0m in \u001b[0;36myour_password\u001b[0;34m()\u001b[0m\n\u001b[1;32m      2\u001b[0m \u001b[0;32mdef\u001b[0m \u001b[0myour_password\u001b[0m\u001b[0;34m(\u001b[0m\u001b[0;34m)\u001b[0m\u001b[0;34m:\u001b[0m\u001b[0;34m\u001b[0m\u001b[0;34m\u001b[0m\u001b[0m\n\u001b[1;32m      3\u001b[0m   \u001b[0mpassword1\u001b[0m \u001b[0;34m=\u001b[0m \u001b[0minput\u001b[0m\u001b[0;34m(\u001b[0m\u001b[0;34m\"Enter password\"\u001b[0m\u001b[0;34m)\u001b[0m\u001b[0;34m\u001b[0m\u001b[0;34m\u001b[0m\u001b[0m\n\u001b[0;32m----> 4\u001b[0;31m   \u001b[0mpassword\u001b[0m \u001b[0;34m=\u001b[0m \u001b[0mlen\u001b[0m\u001b[0;34m(\u001b[0m\u001b[0mpassword\u001b[0m\u001b[0;34m)\u001b[0m \u001b[0;34m*\u001b[0m \u001b[0;34m(\u001b[0m\u001b[0;34m'*'\u001b[0m\u001b[0;34m)\u001b[0m\u001b[0;34m\u001b[0m\u001b[0;34m\u001b[0m\u001b[0m\n\u001b[0m\u001b[1;32m      5\u001b[0m   return (f'You password is {password}' \\\n\u001b[1;32m      6\u001b[0m           f'and its {len(password) } characters long')\n",
            "\u001b[0;31mUnboundLocalError\u001b[0m: local variable 'password' referenced before assignment"
          ]
        }
      ]
    },
    {
      "cell_type": "code",
      "source": [
        "def convert_numbers(n) :\n",
        "  new_list= []\n",
        "  for num in n:\n",
        "    new_list.append(\"{:,}\".format(num))\n",
        "  return new_list\n",
        "\n",
        "print(convert_numbers([1000000, 2547775, 3345667, 34668899]))"
      ],
      "metadata": {
        "colab": {
          "base_uri": "https://localhost:8080/"
        },
        "id": "2DwaNKoACRdW",
        "outputId": "eb9a2915-d6ae-460a-aa43-3ffe1c96f8ef"
      },
      "execution_count": 7,
      "outputs": [
        {
          "output_type": "stream",
          "name": "stdout",
          "text": [
            "['1,000,000', '2,547,775', '3,345,667', '34,668,899']\n"
          ]
        }
      ]
    },
    {
      "cell_type": "code",
      "source": [
        "def equal_strings(st1, st2):\n",
        "  str1 = sorted(st1)\n",
        "  str2 = sorted(st2)\n",
        "  if str1 == str2:\n",
        "    return True\n",
        "  else:\n",
        "    return False\n",
        "\n",
        "print(equal_strings('love','evol'))"
      ],
      "metadata": {
        "colab": {
          "base_uri": "https://localhost:8080/"
        },
        "id": "HJ-sCT3KC3KV",
        "outputId": "e3d1ef2f-edc6-498c-9682-776e7537d8d3"
      },
      "execution_count": 8,
      "outputs": [
        {
          "output_type": "stream",
          "name": "stdout",
          "text": [
            "True\n"
          ]
        }
      ]
    },
    {
      "cell_type": "code",
      "source": [
        "# swap values\n",
        "\n",
        "def swap_values(arr: list):\n",
        "  first_number = arr[0]\n",
        "  last_number = arr[-1]\n",
        "\n",
        "  arr[0] = last_number\n",
        "  arr[-1] = first_number\n",
        "\n",
        "  return arr\n",
        "\n",
        "list1 = [2, 4, 67, 7]\n",
        "print(swap_values(list1))"
      ],
      "metadata": {
        "colab": {
          "base_uri": "https://localhost:8080/"
        },
        "id": "ufd0akl7DYlk",
        "outputId": "b14ee2d1-5523-44d1-df9a-870b6f2212d7"
      },
      "execution_count": 9,
      "outputs": [
        {
          "output_type": "stream",
          "name": "stdout",
          "text": [
            "[7, 4, 67, 2]\n"
          ]
        }
      ]
    },
    {
      "cell_type": "code",
      "source": [
        "def count_dots(word):\n",
        "  m = word.split(\".\")\n",
        "  return (f'The string has {len(m) - 1} dots')\n",
        "\n",
        "print(count_dots(\"h.e.l.p.\"))"
      ],
      "metadata": {
        "colab": {
          "base_uri": "https://localhost:8080/"
        },
        "id": "CPyAYY8iD50V",
        "outputId": "a0f0c825-63c0-48d8-9fbd-477dafe97a52"
      },
      "execution_count": 10,
      "outputs": [
        {
          "output_type": "stream",
          "name": "stdout",
          "text": [
            "The string has 4 dots\n"
          ]
        }
      ]
    },
    {
      "cell_type": "code",
      "source": [
        "from datetime import datetime\n",
        "\n",
        "def your_age():\n",
        "  while True:\n",
        "    birth_year = input(\"Enter your year of birth: \")\n",
        "    if len(birth_year) != 4:\n",
        "      print('Please enter a four digits year')\n",
        "    elif int(birth_year) < 1900 or int(birth_year) > 2022:\n",
        "      print('Please enter a valid year')\n",
        "    else:\n",
        "      now1 = int(datetime.now().strftime(\"%Y\"))\n",
        "      age = (now1 - int(birth_year)) * 525600\n",
        "      return (f'You are {age:,} minutes old.')\n",
        "print(your_age())"
      ],
      "metadata": {
        "colab": {
          "base_uri": "https://localhost:8080/"
        },
        "id": "Do9rzC2MERVL",
        "outputId": "d26dfc30-0bbe-4615-e63b-ce0ce5a1ef0e"
      },
      "execution_count": 13,
      "outputs": [
        {
          "output_type": "stream",
          "name": "stdout",
          "text": [
            "Enter your year of birth: 1998\n",
            "You are 13,140,000 minutes old.\n"
          ]
        }
      ]
    },
    {
      "cell_type": "code",
      "source": [
        "def your_vat():\n",
        "  while True:\n",
        "    try:\n",
        "      price = int(input(\"Enter the price of item: \"))\n",
        "      vat = int(input('Enter vat: '))\n",
        "    except ValueError:\n",
        "      print(\"Enter a valid number\")\n",
        "    else:\n",
        "      total_price = price + \\\n",
        "                    (price * vat / 100 + 1)- 1\n",
        "      return ('The price vat inclusive is', total_price)\n",
        "print(your_vat())"
      ],
      "metadata": {
        "colab": {
          "base_uri": "https://localhost:8080/"
        },
        "id": "GNHur-YyFVHx",
        "outputId": "3426d15f-4a52-4694-da43-cf00f959780a"
      },
      "execution_count": 14,
      "outputs": [
        {
          "output_type": "stream",
          "name": "stdout",
          "text": [
            "Enter the price of item: 30\n",
            "Enter vat: 5\n",
            "('The price vat inclusive is', 31.5)\n"
          ]
        }
      ]
    },
    {
      "cell_type": "code",
      "source": [
        "# pyramid of snakes\n",
        "\n",
        "from emoji import emojize\n",
        "\n",
        "def python_snakes(n: int):\n",
        "  # the loop to determine the number of rows of the pyramid\n",
        "  for i in range(0, n):\n",
        "    # the loop that determines number of columns\n",
        "    for j in range(n, i, -1):\n",
        "      #print space between the snake signs\n",
        "      print(end = \" \")\n",
        "    for k in range(0, i):\n",
        "      # printing the snake emoji\n",
        "      print(emojize(': snake:'), end = \" \")\n",
        "\n",
        "python_snakes(7)"
      ],
      "metadata": {
        "colab": {
          "base_uri": "https://localhost:8080/",
          "height": 373
        },
        "id": "_AMlfcOgGJIW",
        "outputId": "38be44c7-66dc-4f14-ac8e-0b61d5be0cd3"
      },
      "execution_count": 15,
      "outputs": [
        {
          "output_type": "error",
          "ename": "ModuleNotFoundError",
          "evalue": "ignored",
          "traceback": [
            "\u001b[0;31m---------------------------------------------------------------------------\u001b[0m",
            "\u001b[0;31mModuleNotFoundError\u001b[0m                       Traceback (most recent call last)",
            "\u001b[0;32m<ipython-input-15-be1ecd6bc83f>\u001b[0m in \u001b[0;36m<module>\u001b[0;34m\u001b[0m\n\u001b[1;32m      1\u001b[0m \u001b[0;31m# pyramid of snakes\u001b[0m\u001b[0;34m\u001b[0m\u001b[0;34m\u001b[0m\u001b[0;34m\u001b[0m\u001b[0m\n\u001b[1;32m      2\u001b[0m \u001b[0;34m\u001b[0m\u001b[0m\n\u001b[0;32m----> 3\u001b[0;31m \u001b[0;32mfrom\u001b[0m \u001b[0memoji\u001b[0m \u001b[0;32mimport\u001b[0m \u001b[0memojize\u001b[0m\u001b[0;34m\u001b[0m\u001b[0;34m\u001b[0m\u001b[0m\n\u001b[0m\u001b[1;32m      4\u001b[0m \u001b[0;34m\u001b[0m\u001b[0m\n\u001b[1;32m      5\u001b[0m \u001b[0;32mdef\u001b[0m \u001b[0mpython_snakes\u001b[0m\u001b[0;34m(\u001b[0m\u001b[0mn\u001b[0m\u001b[0;34m:\u001b[0m \u001b[0mint\u001b[0m\u001b[0;34m)\u001b[0m\u001b[0;34m:\u001b[0m\u001b[0;34m\u001b[0m\u001b[0;34m\u001b[0m\u001b[0m\n",
            "\u001b[0;31mModuleNotFoundError\u001b[0m: No module named 'emoji'",
            "",
            "\u001b[0;31m---------------------------------------------------------------------------\u001b[0;32m\nNOTE: If your import is failing due to a missing package, you can\nmanually install dependencies using either !pip or !apt.\n\nTo view examples of installing some common dependencies, click the\n\"Open Examples\" button below.\n\u001b[0;31m---------------------------------------------------------------------------\u001b[0m\n"
          ],
          "errorDetails": {
            "actions": [
              {
                "action": "open_url",
                "actionText": "Open Examples",
                "url": "/notebooks/snippets/importing_libraries.ipynb"
              }
            ]
          }
        }
      ]
    },
    {
      "cell_type": "code",
      "source": [
        "def convert_list(lst1: list):\n",
        "  list1 = []\n",
        "  for items in lst1:\n",
        "    for i in items:\n",
        "      list1.append(i)\n",
        "  return list1\n",
        "\n",
        "print(convert_list([[2, 4, 5, 6]]))"
      ],
      "metadata": {
        "colab": {
          "base_uri": "https://localhost:8080/"
        },
        "id": "dab43Z_nHR1G",
        "outputId": "d88c0f92-ded3-41d4-f7fc-fd4ee4bbcf79"
      },
      "execution_count": 16,
      "outputs": [
        {
          "output_type": "stream",
          "name": "stdout",
          "text": [
            "[2, 4, 5, 6]\n"
          ]
        }
      ]
    },
    {
      "cell_type": "code",
      "source": [
        "def your_salary():\n",
        "  name = input('Enter the name of the teachers: ')\n",
        "  rate = int(input('Enter rate per period: '))\n",
        "  period = int(input('Enter the number of periods taught: '))\n",
        "\n",
        "  if period <= 100:\n",
        "    gross_salary = rate * period\n",
        "  else:\n",
        "    gross_salary = (rate * 100)\\\n",
        "                    + ((period-100) * (rate + 5))\n",
        "  return (f'Teacher: {name}, \\nPeriods: '\\\n",
        "          f'{period} \\n Gross salary: {gross_salary:, }')\n",
        "print(your_salary())"
      ],
      "metadata": {
        "colab": {
          "base_uri": "https://localhost:8080/",
          "height": 373
        },
        "id": "mzSzF0LFH2Ex",
        "outputId": "65775a25-05e7-4cf3-d576-48c051584c73"
      },
      "execution_count": 18,
      "outputs": [
        {
          "name": "stdout",
          "output_type": "stream",
          "text": [
            "Enter the name of the teachers: shiv\n",
            "Enter rate per period: 10\n",
            "Enter the number of periods taught: 5\n"
          ]
        },
        {
          "output_type": "error",
          "ename": "ValueError",
          "evalue": "ignored",
          "traceback": [
            "\u001b[0;31m---------------------------------------------------------------------------\u001b[0m",
            "\u001b[0;31mValueError\u001b[0m                                Traceback (most recent call last)",
            "\u001b[0;32m<ipython-input-18-120b9511e058>\u001b[0m in \u001b[0;36m<module>\u001b[0;34m\u001b[0m\n\u001b[1;32m     11\u001b[0m   return (f'Teacher: {name}, \\nPeriods: '\\\n\u001b[1;32m     12\u001b[0m           f'{period} \\n Gross salary: {gross_salary:, }')\n\u001b[0;32m---> 13\u001b[0;31m \u001b[0mprint\u001b[0m\u001b[0;34m(\u001b[0m\u001b[0myour_salary\u001b[0m\u001b[0;34m(\u001b[0m\u001b[0;34m)\u001b[0m\u001b[0;34m)\u001b[0m\u001b[0;34m\u001b[0m\u001b[0;34m\u001b[0m\u001b[0m\n\u001b[0m",
            "\u001b[0;32m<ipython-input-18-120b9511e058>\u001b[0m in \u001b[0;36myour_salary\u001b[0;34m()\u001b[0m\n\u001b[1;32m      9\u001b[0m     \u001b[0mgross_salary\u001b[0m \u001b[0;34m=\u001b[0m \u001b[0;34m(\u001b[0m\u001b[0mrate\u001b[0m \u001b[0;34m*\u001b[0m \u001b[0;36m100\u001b[0m\u001b[0;34m)\u001b[0m\u001b[0;31m\\\u001b[0m\u001b[0;34m\u001b[0m\u001b[0;34m\u001b[0m\u001b[0m\n\u001b[1;32m     10\u001b[0m                     \u001b[0;34m+\u001b[0m \u001b[0;34m(\u001b[0m\u001b[0;34m(\u001b[0m\u001b[0mperiod\u001b[0m\u001b[0;34m-\u001b[0m\u001b[0;36m100\u001b[0m\u001b[0;34m)\u001b[0m \u001b[0;34m*\u001b[0m \u001b[0;34m(\u001b[0m\u001b[0mrate\u001b[0m \u001b[0;34m+\u001b[0m \u001b[0;36m5\u001b[0m\u001b[0;34m)\u001b[0m\u001b[0;34m)\u001b[0m\u001b[0;34m\u001b[0m\u001b[0;34m\u001b[0m\u001b[0m\n\u001b[0;32m---> 11\u001b[0;31m   return (f'Teacher: {name}, \\nPeriods: '\\\n\u001b[0m\u001b[1;32m     12\u001b[0m           f'{period} \\n Gross salary: {gross_salary:, }')\n\u001b[1;32m     13\u001b[0m \u001b[0mprint\u001b[0m\u001b[0;34m(\u001b[0m\u001b[0myour_salary\u001b[0m\u001b[0;34m(\u001b[0m\u001b[0;34m)\u001b[0m\u001b[0;34m)\u001b[0m\u001b[0;34m\u001b[0m\u001b[0;34m\u001b[0m\u001b[0m\n",
            "\u001b[0;31mValueError\u001b[0m: Cannot specify ',' with '\\x20'."
          ]
        }
      ]
    },
    {
      "cell_type": "code",
      "source": [
        "names_age ={\"jane\": 23, \"kerry\": 45, \"tim\": 34, \"peter\": 27}\n",
        "def your_age():\n",
        "  # Convert name to lowercase letters\n",
        "  name = input(\"Please enter your name: \").lower()\n",
        " # Use for loop to iterate over the dictionary\n",
        "  for key in names_age.keys():\n",
        "    if key == name:\n",
        " # use the get method to access a specific value.\n",
        "      return (f'Hi, {name}! You are {names_age.get(key)} years old')\n",
        "  else:\n",
        " # if name not in the dictionary\n",
        "    while name not in names_age.keys():\n",
        "      age = input(\"Your name is not in the dictionary, \"\n",
        "                    \"please enter your age? \").lower()\n",
        " # Update the dictionary with name and age.\n",
        "      names_age.update({name: age})\n",
        "      return f'Hi, {name}! You are {names_age.get(name)} years old'\n",
        "print(your_age())"
      ],
      "metadata": {
        "colab": {
          "base_uri": "https://localhost:8080/"
        },
        "id": "UuvRTu1OKs2c",
        "outputId": "86783a83-c1d6-4208-a7ab-3bf682d2566d"
      },
      "execution_count": 21,
      "outputs": [
        {
          "output_type": "stream",
          "name": "stdout",
          "text": [
            "Please enter your name: amar\n",
            "Your name is not in the dictionary, please enter your age? 23\n",
            "Hi, amar! You are 23 years old\n"
          ]
        }
      ]
    },
    {
      "cell_type": "code",
      "source": [
        "def sum_list(lst1: list):\n",
        "  counta = 0\n",
        "  for items in lst1:\n",
        "    for i in items:\n",
        "      counta += 1\n",
        "  return ('The sum is ', counta)\n",
        "\n",
        "print(sum_list([[2, 4, 5, 6], [2, 3, 5, 6]]))"
      ],
      "metadata": {
        "colab": {
          "base_uri": "https://localhost:8080/"
        },
        "id": "nZ8ATiykMT7p",
        "outputId": "4a620abb-6bf4-4824-8552-c3e42c479559"
      },
      "execution_count": 22,
      "outputs": [
        {
          "output_type": "stream",
          "name": "stdout",
          "text": [
            "('The sum is ', 8)\n"
          ]
        }
      ]
    },
    {
      "cell_type": "code",
      "source": [
        "import random\n",
        "\n",
        "num = random.randint(0, 10)\n",
        "\n",
        "def user_name():\n",
        "  name = input('Enter name: ')\n",
        "  name = name[::-1]\n",
        "  username = name + str(num)\n",
        "  return username\n",
        "print(user_name())"
      ],
      "metadata": {
        "colab": {
          "base_uri": "https://localhost:8080/"
        },
        "id": "eUflvN7hNZp6",
        "outputId": "3de81a73-b1e4-4910-fe0b-e4bdd7ac510e"
      },
      "execution_count": 23,
      "outputs": [
        {
          "output_type": "stream",
          "name": "stdout",
          "text": [
            "Enter name: ashakl\n",
            "lkahsa4\n"
          ]
        }
      ]
    },
    {
      "cell_type": "code",
      "source": [
        "def sort_length(arr: list):\n",
        "  for item in range(len(arr)):\n",
        "    for j in range(len(arr) - 1):\n",
        "      # check if any of the words is longer than the other\n",
        "      if len(arr[j]) > len(arr[j + 1]):\n",
        "        # swap the longest for the shortest\n",
        "        arr[j], arr[j + 1] = arr[j + 1], arr[j]\n",
        "  return arr\n",
        "\n",
        "names = ['Peter', 'Jon','Andrew']"
      ],
      "metadata": {
        "id": "z82da6OWNyw1"
      },
      "execution_count": 24,
      "outputs": []
    },
    {
      "cell_type": "code",
      "source": [
        "print(sort_length(names))"
      ],
      "metadata": {
        "colab": {
          "base_uri": "https://localhost:8080/"
        },
        "id": "keBvZ4CVOe1u",
        "outputId": "c0ba2f49-897a-490f-c815-df44801d96ff"
      },
      "execution_count": 25,
      "outputs": [
        {
          "output_type": "stream",
          "name": "stdout",
          "text": [
            "['Jon', 'Peter', 'Andrew']\n"
          ]
        }
      ]
    },
    {
      "cell_type": "code",
      "source": [
        "def any_num(*args):\n",
        "  ave = sum(args)/ len(args)\n",
        "  return (f'The average is {ave}')\n",
        "\n",
        "print(any_num(12, 90,35,244,344,56))"
      ],
      "metadata": {
        "colab": {
          "base_uri": "https://localhost:8080/"
        },
        "id": "UfOHE3d5Oo9P",
        "outputId": "f3e08890-9be8-4e4f-9035-a9583e6faed7"
      },
      "execution_count": 27,
      "outputs": [
        {
          "output_type": "stream",
          "name": "stdout",
          "text": [
            "The average is 130.16666666666666\n"
          ]
        }
      ]
    },
    {
      "cell_type": "code",
      "source": [
        "def add_reverse(n: list, k:list):\n",
        "  #creating an empty list\n",
        "  new_list = []\n",
        "  if len(n) == len(k):\n",
        "    for i in range(0, len(n)):\n",
        "      #adding and appending corresponding numbers\n",
        "      new_list.append(n[i] + k[i])\n",
        "      #reversing new list\n",
        "      new_list.reverse()\n",
        "    return new_list\n",
        "  else:\n",
        "    return (f'Lists have different lengths')\n",
        "\n",
        "# Lists to add and reverse\n",
        "list1 = [10, 12, 34]\n",
        "list2 = [12, 56, 78]\n",
        "\n",
        "print(add_reverse(list1, list2))"
      ],
      "metadata": {
        "colab": {
          "base_uri": "https://localhost:8080/"
        },
        "id": "04PuLrvOOi21",
        "outputId": "8716b788-ca48-4315-eeaa-4305eef2248a"
      },
      "execution_count": 28,
      "outputs": [
        {
          "output_type": "stream",
          "name": "stdout",
          "text": [
            "[112, 22, 68]\n"
          ]
        }
      ]
    },
    {
      "cell_type": "code",
      "source": [
        "# split\n",
        "\n",
        "def count_words(arr: str):\n",
        "  words = []\n",
        "  for word in arr.split():\n",
        "    words.append(word)\n",
        "    print(words)\n",
        "  return (f'There are {len(words)} '\\\n",
        "          f'words in the sentence')\n",
        "\n",
        "print(count_words('I love Learning'))\n"
      ],
      "metadata": {
        "colab": {
          "base_uri": "https://localhost:8080/"
        },
        "id": "5fExP1fAP6WN",
        "outputId": "2e830c96-d4dc-4a86-efbb-143a38699747"
      },
      "execution_count": 31,
      "outputs": [
        {
          "output_type": "stream",
          "name": "stdout",
          "text": [
            "['I']\n",
            "['I', 'love']\n",
            "['I', 'love', 'Learning']\n",
            "There are 3 words in the sentence\n"
          ]
        }
      ]
    },
    {
      "cell_type": "code",
      "source": [
        "def count_characters(a):\n",
        "  a = a.replace(' ', '')\n",
        "  return (f'The string has '\\\n",
        "          f'{len(a) } elemets')\n",
        "  \n",
        "print(count_characters('I love learning'))\n"
      ],
      "metadata": {
        "colab": {
          "base_uri": "https://localhost:8080/"
        },
        "id": "Im8IgVJRQpcB",
        "outputId": "d01fb835-9844-46d6-a0c6-86d8ea09794c"
      },
      "execution_count": 34,
      "outputs": [
        {
          "output_type": "stream",
          "name": "stdout",
          "text": [
            "The string has 13 elemets\n"
          ]
        }
      ]
    },
    {
      "cell_type": "code",
      "source": [
        "# enumerate\n",
        "\n",
        "def capitalize(a: str):\n",
        "  upper = []\n",
        "  for i, word in enumerate(a.split()):\n",
        "    if word[0].islower():\n",
        "      upper.append(word.capitalize())\n",
        "    else:\n",
        "      upper.append(word)\n",
        "  return ' '.join(upper)\n",
        "\n",
        "print(capitalize('i like learning'))"
      ],
      "metadata": {
        "colab": {
          "base_uri": "https://localhost:8080/"
        },
        "id": "l56Xnyh3RJF-",
        "outputId": "653c6034-97b2-4b72-e842-84646d39255a"
      },
      "execution_count": 35,
      "outputs": [
        {
          "output_type": "stream",
          "name": "stdout",
          "text": [
            "I Like Learning\n"
          ]
        }
      ]
    },
    {
      "cell_type": "code",
      "source": [
        "import string\n",
        "\n",
        "str1 = 'leArning is Hard, bUt IF you ApPly yoUrSeLf'\\\n",
        "        'you caN achIeve SuCcess'\n",
        "\n",
        "upper_names = []\n",
        "for word in str1.split():\n",
        "  for letter in word:\n",
        "    #using string module to find uppercase letters\n",
        "    if letter in string.ascii_uppercase:\n",
        "      upper_names.append(\"\". join(word[::-1]))\n",
        "print(upper_names)"
      ],
      "metadata": {
        "colab": {
          "base_uri": "https://localhost:8080/"
        },
        "id": "H5ABHoljR7vs",
        "outputId": "514cb0b2-55fb-4adf-8dd0-739c2a6faaa1"
      },
      "execution_count": 36,
      "outputs": [
        {
          "output_type": "stream",
          "name": "stdout",
          "text": [
            "['gninrAel', ',draH', 'tUb', 'FI', 'FI', 'ylPpA', 'ylPpA', 'uoyfLeSrUoy', 'uoyfLeSrUoy', 'uoyfLeSrUoy', 'Nac', 'eveIhca', 'ssecCuS', 'ssecCuS']\n"
          ]
        }
      ]
    },
    {
      "cell_type": "code",
      "source": [
        "def make_tuples(a,b):\n",
        "  a = zip(a,b)\n",
        "  return list(tuple(a))\n",
        "\n",
        "print(make_tuples([1,2,3,4], [5,6,7,8]))"
      ],
      "metadata": {
        "colab": {
          "base_uri": "https://localhost:8080/"
        },
        "id": "yZiXo0K9SwF8",
        "outputId": "5993d009-668c-414b-b4bb-1e7f7f618cde"
      },
      "execution_count": 37,
      "outputs": [
        {
          "output_type": "stream",
          "name": "stdout",
          "text": [
            "[(1, 5), (2, 6), (3, 7), (4, 8)]\n"
          ]
        }
      ]
    },
    {
      "cell_type": "code",
      "source": [
        "def even_or_average():\n",
        "  avg_num = []\n",
        "  even_number = []\n",
        "  #using while loop to ensure code keeps running\n",
        "  while True:\n",
        "    number = input('Please enter numbers or done: ')\n",
        "    avg_num.append(int(number))\n",
        "    if int(number) % 2 == 0:\n",
        "      even_number.append(number)\n",
        "      #Once the user inputs five numbers the code breaks\n",
        "    if len(avg_num) == 5:\n",
        "      break\n",
        "  if len(even_number) > 0:\n",
        "    return (f'The largest even number: {max(even_number)}')\n",
        "  else:\n",
        "    return (f'the average is : {sum(avg_num) / len(avg_num):.2f}')\n",
        "\n",
        "print(even_or_average())\n"
      ],
      "metadata": {
        "colab": {
          "base_uri": "https://localhost:8080/"
        },
        "id": "3g02asZfTPQx",
        "outputId": "19d4455a-c568-4ff0-95f2-16c0f7916340"
      },
      "execution_count": 39,
      "outputs": [
        {
          "output_type": "stream",
          "name": "stdout",
          "text": [
            "Please enter numbers or done: 234\n",
            "Please enter numbers or done: 456\n",
            "Please enter numbers or done: 678\n",
            "Please enter numbers or done: 236\n",
            "Please enter numbers or done: 432\n",
            "The largest even number: 678\n"
          ]
        }
      ]
    },
    {
      "cell_type": "code",
      "source": [],
      "metadata": {
        "id": "wt64u9ZNWcOw"
      },
      "execution_count": null,
      "outputs": []
    },
    {
      "cell_type": "code",
      "source": [
        "def add_hash(a: str):\n",
        "  return \"#\".join(a)\n",
        "def add_underscore(a: str):\n",
        "  return str(a).replace(\"#\", \"_\")\n",
        "def remove_underscore(a: str):\n",
        "  return str(a).replace(\"_\", \"\")\n",
        "\n",
        "print(add_hash('Python'))\n",
        "print(add_underscore('P_yt_h__o_n'))\n",
        "print(remove_underscore('_Py_th_on'))\n",
        "\n",
        "print(remove_underscore(add_underscore(add_hash('Python'))))"
      ],
      "metadata": {
        "colab": {
          "base_uri": "https://localhost:8080/"
        },
        "id": "gzWz5zE0U6sq",
        "outputId": "ff0c4ead-7c19-4a72-91ba-95c7a5ab2a88"
      },
      "execution_count": 44,
      "outputs": [
        {
          "output_type": "stream",
          "name": "stdout",
          "text": [
            "P#y#t#h#o#n\n",
            "P_yt_h__o_n\n",
            "Python\n",
            "Python\n"
          ]
        }
      ]
    },
    {
      "cell_type": "code",
      "source": [],
      "metadata": {
        "id": "zInOrsIoVh7t"
      },
      "execution_count": null,
      "outputs": []
    }
  ]
}